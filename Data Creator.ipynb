{
 "cells": [
  {
   "cell_type": "markdown",
   "id": "35170011",
   "metadata": {},
   "source": [
    "# Downloading Youtube Video"
   ]
  },
  {
   "cell_type": "code",
   "execution_count": 1,
   "id": "b71fb0a7-7359-4ba9-9931-be028653c62d",
   "metadata": {},
   "outputs": [],
   "source": [
    "import warnings\n",
    "warnings.filterwarnings(\"ignore\")"
   ]
  },
  {
   "cell_type": "code",
   "execution_count": 3,
   "id": "a39f012f",
   "metadata": {
    "scrolled": true
   },
   "outputs": [
    {
     "name": "stderr",
     "output_type": "stream",
     "text": [
      "A matching Triton is not available, some optimizations will not be enabled.\n",
      "Error caught was: No module named 'triton'\n"
     ]
    }
   ],
   "source": [
    "from audiocraft.data.create_data import download_split"
   ]
  },
  {
   "cell_type": "code",
   "execution_count": 4,
   "id": "e6f61b91-2511-47b6-93fa-fb25d8f1418b",
   "metadata": {
    "scrolled": true
   },
   "outputs": [
    {
     "name": "stdout",
     "output_type": "stream",
     "text": [
      "..\\Dataset\\raw_music\\train\\Patranqi Tevov - Piano Tutorial.wav \u001b[1malready exists. Skipping...\u001b[0m\n",
      "MoviePy - Writing audio in ..\\Dataset\\raw_music\\train\\Arto Tuncboyaciyan - Zeytuni Zar - Piano Tutorial.wav\n"
     ]
    },
    {
     "name": "stderr",
     "output_type": "stream",
     "text": [
      "                                                                                                                       \r"
     ]
    },
    {
     "name": "stdout",
     "output_type": "stream",
     "text": [
      "MoviePy - Done.\n",
      "MoviePy - Writing audio in ..\\Dataset\\raw_music\\train\\Ampi Takic Jur E Galis - Piano Tutorial.wav\n"
     ]
    },
    {
     "name": "stderr",
     "output_type": "stream",
     "text": [
      "                                                                                                                       \r"
     ]
    },
    {
     "name": "stdout",
     "output_type": "stream",
     "text": [
      "MoviePy - Done.\n",
      "MoviePy - Writing audio in ..\\Dataset\\raw_music\\train\\Tigran Mansuryan - Siro Meghedi - Piano Tutorial.wav\n"
     ]
    },
    {
     "name": "stderr",
     "output_type": "stream",
     "text": [
      "                                                                                                                       \r"
     ]
    },
    {
     "name": "stdout",
     "output_type": "stream",
     "text": [
      "MoviePy - Done.\n",
      "MoviePy - Writing audio in ..\\Dataset\\raw_music\\train\\Komitas - Kaqavik - Piano Piano Tutorial.wav\n"
     ]
    },
    {
     "name": "stderr",
     "output_type": "stream",
     "text": [
      "                                                                                                                       \r"
     ]
    },
    {
     "name": "stdout",
     "output_type": "stream",
     "text": [
      "MoviePy - Done.\n",
      "MoviePy - Writing audio in ..\\Dataset\\raw_music\\train\\Erevan Erebuni - Piano Tutorial.wav\n"
     ]
    },
    {
     "name": "stderr",
     "output_type": "stream",
     "text": [
      "                                                                                                                       \r"
     ]
    },
    {
     "name": "stdout",
     "output_type": "stream",
     "text": [
      "MoviePy - Done.\n",
      "MoviePy - Writing audio in ..\\Dataset\\raw_music\\train\\Hayi Achqer - Piano Tutorial.wav\n"
     ]
    },
    {
     "name": "stderr",
     "output_type": "stream",
     "text": [
      "                                                                                                                       \r"
     ]
    },
    {
     "name": "stdout",
     "output_type": "stream",
     "text": [
      "MoviePy - Done.\n",
      "MoviePy - Writing audio in ..\\Dataset\\raw_music\\train\\Hayko - Xachagoxi Hishatakaran - Piano Tutorial.wav\n"
     ]
    },
    {
     "name": "stderr",
     "output_type": "stream",
     "text": [
      "                                                                                                                       \r"
     ]
    },
    {
     "name": "stdout",
     "output_type": "stream",
     "text": [
      "MoviePy - Done.\n",
      "MoviePy - Writing audio in ..\\Dataset\\raw_music\\train\\Komitas - Garun A - Piano Tutorial.wav\n"
     ]
    },
    {
     "name": "stderr",
     "output_type": "stream",
     "text": [
      "                                                                                                                       \r"
     ]
    },
    {
     "name": "stdout",
     "output_type": "stream",
     "text": [
      "MoviePy - Done.\n",
      "MoviePy - Writing audio in ..\\Dataset\\raw_music\\train\\Tigran Mansuryan - Mer Mankutyan Tangon - Piano Tutorial.wav\n"
     ]
    },
    {
     "name": "stderr",
     "output_type": "stream",
     "text": [
      "                                                                                                                       \r"
     ]
    },
    {
     "name": "stdout",
     "output_type": "stream",
     "text": [
      "MoviePy - Done.\n",
      "MoviePy - Writing audio in ..\\Dataset\\raw_music\\train\\Bari Aragil - Piano Tutorial.wav\n"
     ]
    },
    {
     "name": "stderr",
     "output_type": "stream",
     "text": [
      "                                                                                                                       \r"
     ]
    },
    {
     "name": "stdout",
     "output_type": "stream",
     "text": [
      "MoviePy - Done.\n",
      "MoviePy - Writing audio in ..\\Dataset\\raw_music\\train\\Makhmur Aghjik - Piano Tutorial.wav\n"
     ]
    },
    {
     "name": "stderr",
     "output_type": "stream",
     "text": [
      "                                                                                                                       \r"
     ]
    },
    {
     "name": "stdout",
     "output_type": "stream",
     "text": [
      "MoviePy - Done.\n",
      "MoviePy - Writing audio in ..\\Dataset\\raw_music\\train\\Qez Het Im Ser - Piano Tutorial.wav\n"
     ]
    },
    {
     "name": "stderr",
     "output_type": "stream",
     "text": [
      "                                                                                                                       \r"
     ]
    },
    {
     "name": "stdout",
     "output_type": "stream",
     "text": [
      "MoviePy - Done.\n",
      "MoviePy - Writing audio in ..\\Dataset\\raw_music\\train\\Karmir Caxik Me Garuni - Piano Tutorial.wav\n"
     ]
    },
    {
     "name": "stderr",
     "output_type": "stream",
     "text": [
      "                                                                                                                       \r"
     ]
    },
    {
     "name": "stdout",
     "output_type": "stream",
     "text": [
      "MoviePy - Done.\n",
      "MoviePy - Writing audio in ..\\Dataset\\raw_music\\train\\Aryunot Drosh - Piano Tutorial.wav\n"
     ]
    },
    {
     "name": "stderr",
     "output_type": "stream",
     "text": [
      "                                                                                                                       \r"
     ]
    },
    {
     "name": "stdout",
     "output_type": "stream",
     "text": [
      "MoviePy - Done.\n",
      "MoviePy - Writing audio in ..\\Dataset\\raw_music\\train\\Zartir Lao - Piano Tutorial.wav\n"
     ]
    },
    {
     "name": "stderr",
     "output_type": "stream",
     "text": [
      "                                                                                                                       \r"
     ]
    },
    {
     "name": "stdout",
     "output_type": "stream",
     "text": [
      "MoviePy - Done.\n",
      "MoviePy - Writing audio in ..\\Dataset\\raw_music\\train\\Gari Ayvazyan - Irina - Piano Tutorial.wav\n"
     ]
    },
    {
     "name": "stderr",
     "output_type": "stream",
     "text": [
      "                                                                                                                       \r"
     ]
    },
    {
     "name": "stdout",
     "output_type": "stream",
     "text": [
      "MoviePy - Done.\n",
      "MoviePy - Writing audio in ..\\Dataset\\raw_music\\train\\Kilikia - Piano Tutorial.wav\n"
     ]
    },
    {
     "name": "stderr",
     "output_type": "stream",
     "text": [
      "                                                                                                                       \r"
     ]
    },
    {
     "name": "stdout",
     "output_type": "stream",
     "text": [
      "MoviePy - Done.\n",
      "MoviePy - Writing audio in ..\\Dataset\\raw_music\\train\\Komitas - Shushiki - Piano Tutorial.wav\n"
     ]
    },
    {
     "name": "stderr",
     "output_type": "stream",
     "text": [
      "                                                                                                                       \r"
     ]
    },
    {
     "name": "stdout",
     "output_type": "stream",
     "text": [
      "MoviePy - Done.\n",
      "MoviePy - Writing audio in ..\\Dataset\\raw_music\\train\\Zepyuri Nman - Piano Tutorial.wav\n"
     ]
    },
    {
     "name": "stderr",
     "output_type": "stream",
     "text": [
      "                                                                                                                       \r"
     ]
    },
    {
     "name": "stdout",
     "output_type": "stream",
     "text": [
      "MoviePy - Done.\n",
      "MoviePy - Writing audio in ..\\Dataset\\raw_music\\train\\Tigran Mansuryan - Hin Oreri Ergy - Piano Tutorial.wav\n"
     ]
    },
    {
     "name": "stderr",
     "output_type": "stream",
     "text": [
      "                                                                                                                       \r"
     ]
    },
    {
     "name": "stdout",
     "output_type": "stream",
     "text": [
      "MoviePy - Done.\n",
      "MoviePy - Writing audio in ..\\Dataset\\raw_music\\train\\Kyanq u Kriv - Piano Tutorial.wav\n"
     ]
    },
    {
     "name": "stderr",
     "output_type": "stream",
     "text": [
      "                                                                                                                       \r"
     ]
    },
    {
     "name": "stdout",
     "output_type": "stream",
     "text": [
      "MoviePy - Done.\n",
      "MoviePy - Writing audio in ..\\Dataset\\raw_music\\train\\Ari Im Soxak - Piano Tutorial.wav\n"
     ]
    },
    {
     "name": "stderr",
     "output_type": "stream",
     "text": [
      "                                                                                                                       \r"
     ]
    },
    {
     "name": "stdout",
     "output_type": "stream",
     "text": [
      "MoviePy - Done.\n",
      "MoviePy - Writing audio in ..\\Dataset\\raw_music\\train\\Giqor Filmi Erajshtutyuny - Piano Tutorial.wav\n"
     ]
    },
    {
     "name": "stderr",
     "output_type": "stream",
     "text": [
      "                                                                                                                       \r"
     ]
    },
    {
     "name": "stdout",
     "output_type": "stream",
     "text": [
      "MoviePy - Done.\n"
     ]
    }
   ],
   "source": [
    "download_split(split='train')"
   ]
  },
  {
   "cell_type": "code",
   "execution_count": 5,
   "id": "6b316f53-4b66-4893-94d4-507cae5fbbf0",
   "metadata": {
    "scrolled": true
   },
   "outputs": [
    {
     "name": "stdout",
     "output_type": "stream",
     "text": [
      "MoviePy - Writing audio in ..\\Dataset\\raw_music\\validation\\Mer Siro Ashuny - Piano Tutorial.wav\n"
     ]
    },
    {
     "name": "stderr",
     "output_type": "stream",
     "text": [
      "                                                                                                                       \r"
     ]
    },
    {
     "name": "stdout",
     "output_type": "stream",
     "text": [
      "MoviePy - Done.\n",
      "MoviePy - Writing audio in ..\\Dataset\\raw_music\\validation\\Kyanq U Kriv - Piano Tutorial.wav\n"
     ]
    },
    {
     "name": "stderr",
     "output_type": "stream",
     "text": [
      "                                                                                                                       \r"
     ]
    },
    {
     "name": "stdout",
     "output_type": "stream",
     "text": [
      "MoviePy - Done.\n",
      "MoviePy - Writing audio in ..\\Dataset\\raw_music\\validation\\Hayko - Garegin Nzhdeh Soundtrack - Piano Tutorial.wav\n"
     ]
    },
    {
     "name": "stderr",
     "output_type": "stream",
     "text": [
      "                                                                                                                       \r"
     ]
    },
    {
     "name": "stdout",
     "output_type": "stream",
     "text": [
      "MoviePy - Done.\n",
      "MoviePy - Writing audio in ..\\Dataset\\raw_music\\validation\\Hayko - Erkrasharj - Piano Tutorial.wav\n"
     ]
    },
    {
     "name": "stderr",
     "output_type": "stream",
     "text": [
      "                                                                                                                       \r"
     ]
    },
    {
     "name": "stdout",
     "output_type": "stream",
     "text": [
      "MoviePy - Done.\n",
      "MoviePy - Writing audio in ..\\Dataset\\raw_music\\validation\\Tigran Mansuryan - Chermak Anurjner - Piano Tutorial.wav\n"
     ]
    },
    {
     "name": "stderr",
     "output_type": "stream",
     "text": [
      "                                                                                                                       \r"
     ]
    },
    {
     "name": "stdout",
     "output_type": "stream",
     "text": [
      "MoviePy - Done.\n",
      "MoviePy - Writing audio in ..\\Dataset\\raw_music\\validation\\Zurnayi Pareri sharan - Gevush Araqelyan Զուռնայի պարերի շարան- Գևուշ Առաքելյան.wav\n"
     ]
    },
    {
     "name": "stderr",
     "output_type": "stream",
     "text": [
      "                                                                                                                       \r"
     ]
    },
    {
     "name": "stdout",
     "output_type": "stream",
     "text": [
      "MoviePy - Done.\n",
      "MoviePy - Writing audio in ..\\Dataset\\raw_music\\validation\\Tonakan Par - Gevush Araqelyan (zurna) Գևուշ Առաքելյան - Տոնական Պար.wav\n"
     ]
    },
    {
     "name": "stderr",
     "output_type": "stream",
     "text": [
      "                                                                                                                       \r"
     ]
    },
    {
     "name": "stdout",
     "output_type": "stream",
     "text": [
      "MoviePy - Done.\n",
      "MoviePy - Writing audio in ..\\Dataset\\raw_music\\validation\\Արևոտ անձրև  Arevot andzrev - Davit Matevosyan.wav\n"
     ]
    },
    {
     "name": "stderr",
     "output_type": "stream",
     "text": [
      "                                                                                                                       \r"
     ]
    },
    {
     "name": "stdout",
     "output_type": "stream",
     "text": [
      "MoviePy - Done.\n",
      "MoviePy - Writing audio in ..\\Dataset\\raw_music\\validation\\Uzundara - Davit MatevosyanՈւզունդարա - Узундара.wav\n"
     ]
    },
    {
     "name": "stderr",
     "output_type": "stream",
     "text": [
      "                                                                                                                       \r"
     ]
    },
    {
     "name": "stdout",
     "output_type": "stream",
     "text": [
      "MoviePy - Done.\n",
      "MoviePy - Writing audio in ..\\Dataset\\raw_music\\validation\\La Boheme - Charles Aznavour - Davit Matevosyan.wav\n"
     ]
    },
    {
     "name": "stderr",
     "output_type": "stream",
     "text": [
      "                                                                                                                       \r"
     ]
    },
    {
     "name": "stdout",
     "output_type": "stream",
     "text": [
      "MoviePy - Done.\n"
     ]
    }
   ],
   "source": [
    "download_split(split='validation')"
   ]
  },
  {
   "cell_type": "markdown",
   "id": "b3504d70-3d86-4916-9809-ec101ce9b94d",
   "metadata": {},
   "source": [
    "# Data Splitter"
   ]
  },
  {
   "cell_type": "code",
   "execution_count": 1,
   "id": "2df7f368-7efb-4f97-8267-c6e764a68572",
   "metadata": {},
   "outputs": [
    {
     "name": "stderr",
     "output_type": "stream",
     "text": [
      "A matching Triton is not available, some optimizations will not be enabled.\n",
      "Error caught was: No module named 'triton'\n",
      "C:\\Users\\hrayr\\anaconda3\\envs\\MusicGen\\lib\\site-packages\\deeplake\\util\\check_latest_version.py:32: UserWarning: A newer version of deeplake (3.9.18) is available. It's recommended that you update to the latest version using `pip install -U deeplake`.\n",
      "  warnings.warn(\n"
     ]
    }
   ],
   "source": [
    "from audiocraft.data.create_data import divide_into_clips"
   ]
  },
  {
   "cell_type": "code",
   "execution_count": 2,
   "id": "877596d6-a730-41e9-ae4d-123ad525ef90",
   "metadata": {},
   "outputs": [
    {
     "name": "stdout",
     "output_type": "stream",
     "text": [
      "Done: ..\\Dataset\\raw_music\\train\\Ampi Takic Jur E Galis - Piano Tutorial.wav\n",
      "Done: ..\\Dataset\\raw_music\\train\\Ari Im Soxak - Piano Tutorial.wav\n",
      "Done: ..\\Dataset\\raw_music\\train\\Arto Tuncboyaciyan - Zeytuni Zar - Piano Tutorial.wav\n",
      "Done: ..\\Dataset\\raw_music\\train\\Aryunot Drosh - Piano Tutorial.wav\n",
      "Done: ..\\Dataset\\raw_music\\train\\Bari Aragil - Piano Tutorial.wav\n",
      "Done: ..\\Dataset\\raw_music\\train\\Erevan Erebuni - Piano Tutorial.wav\n",
      "Done: ..\\Dataset\\raw_music\\train\\Gari Ayvazyan - Irina - Piano Tutorial.wav\n",
      "Done: ..\\Dataset\\raw_music\\train\\Giqor Filmi Erajshtutyuny - Piano Tutorial.wav\n",
      "Done: ..\\Dataset\\raw_music\\train\\Hayi Achqer - Piano Tutorial.wav\n",
      "Done: ..\\Dataset\\raw_music\\train\\Hayko - Xachagoxi Hishatakaran - Piano Tutorial.wav\n",
      "Done: ..\\Dataset\\raw_music\\train\\Karmir Caxik Me Garuni - Piano Tutorial.wav\n",
      "Done: ..\\Dataset\\raw_music\\train\\Kilikia - Piano Tutorial.wav\n",
      "Done: ..\\Dataset\\raw_music\\train\\Komitas - Garun A - Piano Tutorial.wav\n",
      "Done: ..\\Dataset\\raw_music\\train\\Komitas - Kaqavik - Piano Piano Tutorial.wav\n",
      "Done: ..\\Dataset\\raw_music\\train\\Komitas - Shushiki - Piano Tutorial.wav\n",
      "Done: ..\\Dataset\\raw_music\\train\\Kyanq u Kriv - Piano Tutorial.wav\n",
      "Done: ..\\Dataset\\raw_music\\train\\Makhmur Aghjik - Piano Tutorial.wav\n",
      "Done: ..\\Dataset\\raw_music\\train\\Patranqi Tevov - Piano Tutorial.wav\n",
      "Done: ..\\Dataset\\raw_music\\train\\Qez Het Im Ser - Piano Tutorial.wav\n",
      "Done: ..\\Dataset\\raw_music\\train\\Tigran Mansuryan - Hin Oreri Ergy - Piano Tutorial.wav\n",
      "Done: ..\\Dataset\\raw_music\\train\\Tigran Mansuryan - Mer Mankutyan Tangon - Piano Tutorial.wav\n",
      "Done: ..\\Dataset\\raw_music\\train\\Tigran Mansuryan - Siro Meghedi - Piano Tutorial.wav\n",
      "Done: ..\\Dataset\\raw_music\\train\\Zartir Lao - Piano Tutorial.wav\n",
      "Done: ..\\Dataset\\raw_music\\train\\Zepyuri Nman - Piano Tutorial.wav\n"
     ]
    }
   ],
   "source": [
    "divide_into_clips(split='train', raw_music_path='../Dataset/raw_music/', clip_duration=30, stride=15)"
   ]
  },
  {
   "cell_type": "code",
   "execution_count": 3,
   "id": "2d433c31-c172-4c42-8b4c-676708a41cf9",
   "metadata": {},
   "outputs": [
    {
     "name": "stdout",
     "output_type": "stream",
     "text": [
      "Done: ..\\Dataset\\raw_music\\validation\\Hayko - Erkrasharj - Piano Tutorial.wav\n",
      "Done: ..\\Dataset\\raw_music\\validation\\Hayko - Garegin Nzhdeh Soundtrack - Piano Tutorial.wav\n",
      "Done: ..\\Dataset\\raw_music\\validation\\Kyanq U Kriv - Piano Tutorial.wav\n",
      "Done: ..\\Dataset\\raw_music\\validation\\La Boheme - Charles Aznavour - Davit Matevosyan.wav\n",
      "Done: ..\\Dataset\\raw_music\\validation\\Mer Siro Ashuny - Piano Tutorial.wav\n",
      "Done: ..\\Dataset\\raw_music\\validation\\Tigran Mansuryan - Chermak Anurjner - Piano Tutorial.wav\n",
      "Done: ..\\Dataset\\raw_music\\validation\\Tonakan Par - Gevush Araqelyan (zurna) Գևուշ Առաքելյան - Տոնական Պար.wav\n",
      "Done: ..\\Dataset\\raw_music\\validation\\Uzundara - Davit MatevosyanՈւզունդարա - Узундара.wav\n",
      "Done: ..\\Dataset\\raw_music\\validation\\Zurnayi Pareri sharan - Gevush Araqelyan Զուռնայի պարերի շարան- Գևուշ Առաքելյան.wav\n",
      "Done: ..\\Dataset\\raw_music\\validation\\Արևոտ անձրև  Arevot andzrev - Davit Matevosyan.wav\n"
     ]
    }
   ],
   "source": [
    "divide_into_clips(split='validation', raw_music_path='../Dataset/raw_music/', clip_duration=30, stride=15)"
   ]
  },
  {
   "cell_type": "markdown",
   "id": "8d918e82-6fe8-44ed-88a5-9e2bda3f8ab9",
   "metadata": {},
   "source": [
    "# Data Preprocessor"
   ]
  },
  {
   "cell_type": "code",
   "execution_count": 1,
   "id": "59c8ce48-2bfc-4084-a9ae-e3904e67e79c",
   "metadata": {},
   "outputs": [
    {
     "name": "stderr",
     "output_type": "stream",
     "text": [
      "A matching Triton is not available, some optimizations will not be enabled.\n",
      "Error caught was: No module named 'triton'\n",
      "C:\\Users\\hrayr\\anaconda3\\envs\\MusicGen\\lib\\site-packages\\deeplake\\util\\check_latest_version.py:32: UserWarning: A newer version of deeplake (3.9.18) is available. It's recommended that you update to the latest version using `pip install -U deeplake`.\n",
      "  warnings.warn(\n"
     ]
    }
   ],
   "source": [
    "from audiocraft.data.create_data import prepare_attributes"
   ]
  },
  {
   "cell_type": "code",
   "execution_count": 2,
   "id": "2f631299-de14-4ebb-ab73-4653005ff650",
   "metadata": {},
   "outputs": [
    {
     "name": "stdout",
     "output_type": "stream",
     "text": [
      "\u001b[1mSaved Json file for:\u001b[0m Ampi Takic Jur E Galis - Piano Tutorial_1\n",
      "\u001b[1mSaved Json file for:\u001b[0m Ampi Takic Jur E Galis - Piano Tutorial_2\n",
      "\u001b[1mSaved Json file for:\u001b[0m Ampi Takic Jur E Galis - Piano Tutorial_3\n",
      "\u001b[1mSaved Json file for:\u001b[0m Ampi Takic Jur E Galis - Piano Tutorial_4\n",
      "\u001b[1mSaved Json file for:\u001b[0m Ari Im Soxak - Piano Tutorial_1\n",
      "\u001b[1mSaved Json file for:\u001b[0m Ari Im Soxak - Piano Tutorial_2\n",
      "\u001b[1mSaved Json file for:\u001b[0m Ari Im Soxak - Piano Tutorial_3\n",
      "\u001b[1mSaved Json file for:\u001b[0m Ari Im Soxak - Piano Tutorial_4\n",
      "\u001b[1mSaved Json file for:\u001b[0m Ari Im Soxak - Piano Tutorial_5\n",
      "\u001b[1mSaved Json file for:\u001b[0m Ari Im Soxak - Piano Tutorial_6\n",
      "\u001b[1mSaved Json file for:\u001b[0m Ari Im Soxak - Piano Tutorial_7\n",
      "\u001b[1mSaved Json file for:\u001b[0m Ari Im Soxak - Piano Tutorial_8\n",
      "\u001b[1mSaved Json file for:\u001b[0m Arto Tuncboyaciyan - Zeytuni Zar - Piano Tutorial_1\n",
      "\u001b[1mSaved Json file for:\u001b[0m Arto Tuncboyaciyan - Zeytuni Zar - Piano Tutorial_10\n",
      "\u001b[1mSaved Json file for:\u001b[0m Arto Tuncboyaciyan - Zeytuni Zar - Piano Tutorial_11\n",
      "\u001b[1mSaved Json file for:\u001b[0m Arto Tuncboyaciyan - Zeytuni Zar - Piano Tutorial_12\n",
      "\u001b[1mSaved Json file for:\u001b[0m Arto Tuncboyaciyan - Zeytuni Zar - Piano Tutorial_13\n",
      "\u001b[1mSaved Json file for:\u001b[0m Arto Tuncboyaciyan - Zeytuni Zar - Piano Tutorial_14\n",
      "\u001b[1mSaved Json file for:\u001b[0m Arto Tuncboyaciyan - Zeytuni Zar - Piano Tutorial_15\n",
      "\u001b[1mSaved Json file for:\u001b[0m Arto Tuncboyaciyan - Zeytuni Zar - Piano Tutorial_16\n",
      "\u001b[1mSaved Json file for:\u001b[0m Arto Tuncboyaciyan - Zeytuni Zar - Piano Tutorial_17\n",
      "\u001b[1mSaved Json file for:\u001b[0m Arto Tuncboyaciyan - Zeytuni Zar - Piano Tutorial_2\n",
      "\u001b[1mSaved Json file for:\u001b[0m Arto Tuncboyaciyan - Zeytuni Zar - Piano Tutorial_3\n",
      "\u001b[1mSaved Json file for:\u001b[0m Arto Tuncboyaciyan - Zeytuni Zar - Piano Tutorial_4\n",
      "\u001b[1mSaved Json file for:\u001b[0m Arto Tuncboyaciyan - Zeytuni Zar - Piano Tutorial_5\n",
      "\u001b[1mSaved Json file for:\u001b[0m Arto Tuncboyaciyan - Zeytuni Zar - Piano Tutorial_6\n",
      "\u001b[1mSaved Json file for:\u001b[0m Arto Tuncboyaciyan - Zeytuni Zar - Piano Tutorial_7\n",
      "\u001b[1mSaved Json file for:\u001b[0m Arto Tuncboyaciyan - Zeytuni Zar - Piano Tutorial_8\n",
      "\u001b[1mSaved Json file for:\u001b[0m Arto Tuncboyaciyan - Zeytuni Zar - Piano Tutorial_9\n",
      "\u001b[1mSaved Json file for:\u001b[0m Aryunot Drosh - Piano Tutorial_1\n",
      "\u001b[1mSaved Json file for:\u001b[0m Aryunot Drosh - Piano Tutorial_2\n",
      "\u001b[1mSaved Json file for:\u001b[0m Aryunot Drosh - Piano Tutorial_3\n",
      "\u001b[1mSaved Json file for:\u001b[0m Aryunot Drosh - Piano Tutorial_4\n",
      "\u001b[1mSaved Json file for:\u001b[0m Aryunot Drosh - Piano Tutorial_5\n",
      "\u001b[1mSaved Json file for:\u001b[0m Aryunot Drosh - Piano Tutorial_6\n",
      "\u001b[1mSaved Json file for:\u001b[0m Bari Aragil - Piano Tutorial_1\n",
      "\u001b[1mSaved Json file for:\u001b[0m Bari Aragil - Piano Tutorial_2\n",
      "\u001b[1mSaved Json file for:\u001b[0m Bari Aragil - Piano Tutorial_3\n",
      "\u001b[1mSaved Json file for:\u001b[0m Bari Aragil - Piano Tutorial_4\n",
      "\u001b[1mSaved Json file for:\u001b[0m Bari Aragil - Piano Tutorial_5\n",
      "\u001b[1mSaved Json file for:\u001b[0m Erevan Erebuni - Piano Tutorial_1\n",
      "\u001b[1mSaved Json file for:\u001b[0m Erevan Erebuni - Piano Tutorial_10\n",
      "\u001b[1mSaved Json file for:\u001b[0m Erevan Erebuni - Piano Tutorial_11\n",
      "\u001b[1mSaved Json file for:\u001b[0m Erevan Erebuni - Piano Tutorial_12\n",
      "\u001b[1mSaved Json file for:\u001b[0m Erevan Erebuni - Piano Tutorial_2\n",
      "\u001b[1mSaved Json file for:\u001b[0m Erevan Erebuni - Piano Tutorial_3\n",
      "\u001b[1mSaved Json file for:\u001b[0m Erevan Erebuni - Piano Tutorial_4\n",
      "\u001b[1mSaved Json file for:\u001b[0m Erevan Erebuni - Piano Tutorial_5\n",
      "\u001b[1mSaved Json file for:\u001b[0m Erevan Erebuni - Piano Tutorial_6\n",
      "\u001b[1mSaved Json file for:\u001b[0m Erevan Erebuni - Piano Tutorial_7\n",
      "\u001b[1mSaved Json file for:\u001b[0m Erevan Erebuni - Piano Tutorial_8\n",
      "\u001b[1mSaved Json file for:\u001b[0m Erevan Erebuni - Piano Tutorial_9\n",
      "\u001b[1mSaved Json file for:\u001b[0m Gari Ayvazyan - Irina - Piano Tutorial_1\n",
      "\u001b[1mSaved Json file for:\u001b[0m Gari Ayvazyan - Irina - Piano Tutorial_10\n",
      "\u001b[1mSaved Json file for:\u001b[0m Gari Ayvazyan - Irina - Piano Tutorial_11\n",
      "\u001b[1mSaved Json file for:\u001b[0m Gari Ayvazyan - Irina - Piano Tutorial_12\n",
      "\u001b[1mSaved Json file for:\u001b[0m Gari Ayvazyan - Irina - Piano Tutorial_13\n",
      "\u001b[1mSaved Json file for:\u001b[0m Gari Ayvazyan - Irina - Piano Tutorial_14\n",
      "\u001b[1mSaved Json file for:\u001b[0m Gari Ayvazyan - Irina - Piano Tutorial_15\n",
      "\u001b[1mSaved Json file for:\u001b[0m Gari Ayvazyan - Irina - Piano Tutorial_16\n",
      "\u001b[1mSaved Json file for:\u001b[0m Gari Ayvazyan - Irina - Piano Tutorial_17\n",
      "\u001b[1mSaved Json file for:\u001b[0m Gari Ayvazyan - Irina - Piano Tutorial_18\n",
      "\u001b[1mSaved Json file for:\u001b[0m Gari Ayvazyan - Irina - Piano Tutorial_19\n",
      "\u001b[1mSaved Json file for:\u001b[0m Gari Ayvazyan - Irina - Piano Tutorial_2\n",
      "\u001b[1mSaved Json file for:\u001b[0m Gari Ayvazyan - Irina - Piano Tutorial_3\n",
      "\u001b[1mSaved Json file for:\u001b[0m Gari Ayvazyan - Irina - Piano Tutorial_4\n",
      "\u001b[1mSaved Json file for:\u001b[0m Gari Ayvazyan - Irina - Piano Tutorial_5\n",
      "\u001b[1mSaved Json file for:\u001b[0m Gari Ayvazyan - Irina - Piano Tutorial_6\n",
      "\u001b[1mSaved Json file for:\u001b[0m Gari Ayvazyan - Irina - Piano Tutorial_7\n",
      "\u001b[1mSaved Json file for:\u001b[0m Gari Ayvazyan - Irina - Piano Tutorial_8\n",
      "\u001b[1mSaved Json file for:\u001b[0m Gari Ayvazyan - Irina - Piano Tutorial_9\n",
      "\u001b[1mSaved Json file for:\u001b[0m Giqor Filmi Erajshtutyuny - Piano Tutorial_1\n",
      "\u001b[1mSaved Json file for:\u001b[0m Giqor Filmi Erajshtutyuny - Piano Tutorial_2\n",
      "\u001b[1mSaved Json file for:\u001b[0m Giqor Filmi Erajshtutyuny - Piano Tutorial_3\n",
      "\u001b[1mSaved Json file for:\u001b[0m Giqor Filmi Erajshtutyuny - Piano Tutorial_4\n",
      "\u001b[1mSaved Json file for:\u001b[0m Giqor Filmi Erajshtutyuny - Piano Tutorial_5\n",
      "\u001b[1mSaved Json file for:\u001b[0m Giqor Filmi Erajshtutyuny - Piano Tutorial_6\n",
      "\u001b[1mSaved Json file for:\u001b[0m Giqor Filmi Erajshtutyuny - Piano Tutorial_7\n",
      "\u001b[1mSaved Json file for:\u001b[0m Giqor Filmi Erajshtutyuny - Piano Tutorial_8\n",
      "\u001b[1mSaved Json file for:\u001b[0m Giqor Filmi Erajshtutyuny - Piano Tutorial_9\n",
      "\u001b[1mSaved Json file for:\u001b[0m Hayi Achqer - Piano Tutorial_1\n",
      "\u001b[1mSaved Json file for:\u001b[0m Hayi Achqer - Piano Tutorial_10\n",
      "\u001b[1mSaved Json file for:\u001b[0m Hayi Achqer - Piano Tutorial_11\n",
      "\u001b[1mSaved Json file for:\u001b[0m Hayi Achqer - Piano Tutorial_2\n",
      "\u001b[1mSaved Json file for:\u001b[0m Hayi Achqer - Piano Tutorial_3\n",
      "\u001b[1mSaved Json file for:\u001b[0m Hayi Achqer - Piano Tutorial_4\n",
      "\u001b[1mSaved Json file for:\u001b[0m Hayi Achqer - Piano Tutorial_5\n",
      "\u001b[1mSaved Json file for:\u001b[0m Hayi Achqer - Piano Tutorial_6\n",
      "\u001b[1mSaved Json file for:\u001b[0m Hayi Achqer - Piano Tutorial_7\n",
      "\u001b[1mSaved Json file for:\u001b[0m Hayi Achqer - Piano Tutorial_8\n",
      "\u001b[1mSaved Json file for:\u001b[0m Hayi Achqer - Piano Tutorial_9\n",
      "\u001b[1mSaved Json file for:\u001b[0m Hayko - Xachagoxi Hishatakaran - Piano Tutorial_1\n",
      "\u001b[1mSaved Json file for:\u001b[0m Hayko - Xachagoxi Hishatakaran - Piano Tutorial_2\n",
      "\u001b[1mSaved Json file for:\u001b[0m Hayko - Xachagoxi Hishatakaran - Piano Tutorial_3\n",
      "\u001b[1mSaved Json file for:\u001b[0m Hayko - Xachagoxi Hishatakaran - Piano Tutorial_4\n",
      "\u001b[1mSaved Json file for:\u001b[0m Hayko - Xachagoxi Hishatakaran - Piano Tutorial_5\n",
      "\u001b[1mSaved Json file for:\u001b[0m Karmir Caxik Me Garuni - Piano Tutorial_1\n",
      "\u001b[1mSaved Json file for:\u001b[0m Karmir Caxik Me Garuni - Piano Tutorial_10\n",
      "\u001b[1mSaved Json file for:\u001b[0m Karmir Caxik Me Garuni - Piano Tutorial_11\n",
      "\u001b[1mSaved Json file for:\u001b[0m Karmir Caxik Me Garuni - Piano Tutorial_12\n",
      "\u001b[1mSaved Json file for:\u001b[0m Karmir Caxik Me Garuni - Piano Tutorial_2\n",
      "\u001b[1mSaved Json file for:\u001b[0m Karmir Caxik Me Garuni - Piano Tutorial_3\n",
      "\u001b[1mSaved Json file for:\u001b[0m Karmir Caxik Me Garuni - Piano Tutorial_4\n",
      "\u001b[1mSaved Json file for:\u001b[0m Karmir Caxik Me Garuni - Piano Tutorial_5\n",
      "\u001b[1mSaved Json file for:\u001b[0m Karmir Caxik Me Garuni - Piano Tutorial_6\n",
      "\u001b[1mSaved Json file for:\u001b[0m Karmir Caxik Me Garuni - Piano Tutorial_7\n",
      "\u001b[1mSaved Json file for:\u001b[0m Karmir Caxik Me Garuni - Piano Tutorial_8\n",
      "\u001b[1mSaved Json file for:\u001b[0m Karmir Caxik Me Garuni - Piano Tutorial_9\n",
      "\u001b[1mSaved Json file for:\u001b[0m Kilikia - Piano Tutorial_1\n",
      "\u001b[1mSaved Json file for:\u001b[0m Kilikia - Piano Tutorial_10\n",
      "\u001b[1mSaved Json file for:\u001b[0m Kilikia - Piano Tutorial_11\n",
      "\u001b[1mSaved Json file for:\u001b[0m Kilikia - Piano Tutorial_2\n",
      "\u001b[1mSaved Json file for:\u001b[0m Kilikia - Piano Tutorial_3\n",
      "\u001b[1mSaved Json file for:\u001b[0m Kilikia - Piano Tutorial_4\n",
      "\u001b[1mSaved Json file for:\u001b[0m Kilikia - Piano Tutorial_5\n",
      "\u001b[1mSaved Json file for:\u001b[0m Kilikia - Piano Tutorial_6\n",
      "\u001b[1mSaved Json file for:\u001b[0m Kilikia - Piano Tutorial_7\n",
      "\u001b[1mSaved Json file for:\u001b[0m Kilikia - Piano Tutorial_8\n",
      "\u001b[1mSaved Json file for:\u001b[0m Kilikia - Piano Tutorial_9\n",
      "\u001b[1mSaved Json file for:\u001b[0m Komitas - Garun A - Piano Tutorial_1\n",
      "\u001b[1mSaved Json file for:\u001b[0m Komitas - Garun A - Piano Tutorial_10\n",
      "\u001b[1mSaved Json file for:\u001b[0m Komitas - Garun A - Piano Tutorial_11\n",
      "\u001b[1mSaved Json file for:\u001b[0m Komitas - Garun A - Piano Tutorial_12\n",
      "\u001b[1mSaved Json file for:\u001b[0m Komitas - Garun A - Piano Tutorial_13\n",
      "\u001b[1mSaved Json file for:\u001b[0m Komitas - Garun A - Piano Tutorial_14\n",
      "\u001b[1mSaved Json file for:\u001b[0m Komitas - Garun A - Piano Tutorial_2\n",
      "\u001b[1mSaved Json file for:\u001b[0m Komitas - Garun A - Piano Tutorial_3\n",
      "\u001b[1mSaved Json file for:\u001b[0m Komitas - Garun A - Piano Tutorial_4\n",
      "\u001b[1mSaved Json file for:\u001b[0m Komitas - Garun A - Piano Tutorial_5\n",
      "\u001b[1mSaved Json file for:\u001b[0m Komitas - Garun A - Piano Tutorial_6\n",
      "\u001b[1mSaved Json file for:\u001b[0m Komitas - Garun A - Piano Tutorial_7\n",
      "\u001b[1mSaved Json file for:\u001b[0m Komitas - Garun A - Piano Tutorial_8\n",
      "\u001b[1mSaved Json file for:\u001b[0m Komitas - Garun A - Piano Tutorial_9\n",
      "\u001b[1mSaved Json file for:\u001b[0m Komitas - Kaqavik - Piano Piano Tutorial_1\n",
      "\u001b[1mSaved Json file for:\u001b[0m Komitas - Kaqavik - Piano Piano Tutorial_2\n",
      "\u001b[1mSaved Json file for:\u001b[0m Komitas - Shushiki - Piano Tutorial_1\n",
      "\u001b[1mSaved Json file for:\u001b[0m Komitas - Shushiki - Piano Tutorial_2\n",
      "\u001b[1mSaved Json file for:\u001b[0m Komitas - Shushiki - Piano Tutorial_3\n",
      "\u001b[1mSaved Json file for:\u001b[0m Komitas - Shushiki - Piano Tutorial_4\n",
      "\u001b[1mSaved Json file for:\u001b[0m Komitas - Shushiki - Piano Tutorial_5\n",
      "\u001b[1mSaved Json file for:\u001b[0m Komitas - Shushiki - Piano Tutorial_6\n",
      "\u001b[1mSaved Json file for:\u001b[0m Komitas - Shushiki - Piano Tutorial_7\n",
      "\u001b[1mSaved Json file for:\u001b[0m Komitas - Shushiki - Piano Tutorial_8\n",
      "\u001b[1mSaved Json file for:\u001b[0m Komitas - Shushiki - Piano Tutorial_9\n",
      "\u001b[1mSaved Json file for:\u001b[0m Kyanq u Kriv - Piano Tutorial_1\n",
      "\u001b[1mSaved Json file for:\u001b[0m Kyanq u Kriv - Piano Tutorial_10\n",
      "\u001b[1mSaved Json file for:\u001b[0m Kyanq u Kriv - Piano Tutorial_11\n",
      "\u001b[1mSaved Json file for:\u001b[0m Kyanq u Kriv - Piano Tutorial_2\n",
      "\u001b[1mSaved Json file for:\u001b[0m Kyanq u Kriv - Piano Tutorial_3\n",
      "\u001b[1mSaved Json file for:\u001b[0m Kyanq u Kriv - Piano Tutorial_4\n",
      "\u001b[1mSaved Json file for:\u001b[0m Kyanq u Kriv - Piano Tutorial_5\n",
      "\u001b[1mSaved Json file for:\u001b[0m Kyanq u Kriv - Piano Tutorial_6\n",
      "\u001b[1mSaved Json file for:\u001b[0m Kyanq u Kriv - Piano Tutorial_7\n",
      "\u001b[1mSaved Json file for:\u001b[0m Kyanq u Kriv - Piano Tutorial_8\n",
      "\u001b[1mSaved Json file for:\u001b[0m Kyanq u Kriv - Piano Tutorial_9\n",
      "\u001b[1mSaved Json file for:\u001b[0m Makhmur Aghjik - Piano Tutorial_1\n",
      "\u001b[1mSaved Json file for:\u001b[0m Makhmur Aghjik - Piano Tutorial_2\n",
      "\u001b[1mSaved Json file for:\u001b[0m Makhmur Aghjik - Piano Tutorial_3\n",
      "\u001b[1mSaved Json file for:\u001b[0m Makhmur Aghjik - Piano Tutorial_4\n",
      "\u001b[1mSaved Json file for:\u001b[0m Makhmur Aghjik - Piano Tutorial_5\n",
      "\u001b[1mSaved Json file for:\u001b[0m Makhmur Aghjik - Piano Tutorial_6\n",
      "\u001b[1mSaved Json file for:\u001b[0m Patranqi Tevov - Piano Tutorial_1\n",
      "\u001b[1mSaved Json file for:\u001b[0m Patranqi Tevov - Piano Tutorial_10\n",
      "\u001b[1mSaved Json file for:\u001b[0m Patranqi Tevov - Piano Tutorial_11\n",
      "\u001b[1mSaved Json file for:\u001b[0m Patranqi Tevov - Piano Tutorial_12\n",
      "\u001b[1mSaved Json file for:\u001b[0m Patranqi Tevov - Piano Tutorial_13\n",
      "\u001b[1mSaved Json file for:\u001b[0m Patranqi Tevov - Piano Tutorial_14\n",
      "\u001b[1mSaved Json file for:\u001b[0m Patranqi Tevov - Piano Tutorial_15\n",
      "\u001b[1mSaved Json file for:\u001b[0m Patranqi Tevov - Piano Tutorial_16\n",
      "\u001b[1mSaved Json file for:\u001b[0m Patranqi Tevov - Piano Tutorial_2\n",
      "\u001b[1mSaved Json file for:\u001b[0m Patranqi Tevov - Piano Tutorial_3\n",
      "\u001b[1mSaved Json file for:\u001b[0m Patranqi Tevov - Piano Tutorial_4\n",
      "\u001b[1mSaved Json file for:\u001b[0m Patranqi Tevov - Piano Tutorial_5\n",
      "\u001b[1mSaved Json file for:\u001b[0m Patranqi Tevov - Piano Tutorial_6\n",
      "\u001b[1mSaved Json file for:\u001b[0m Patranqi Tevov - Piano Tutorial_7\n",
      "\u001b[1mSaved Json file for:\u001b[0m Patranqi Tevov - Piano Tutorial_8\n",
      "\u001b[1mSaved Json file for:\u001b[0m Patranqi Tevov - Piano Tutorial_9\n",
      "\u001b[1mSaved Json file for:\u001b[0m Qez Het Im Ser - Piano Tutorial_1\n",
      "\u001b[1mSaved Json file for:\u001b[0m Qez Het Im Ser - Piano Tutorial_10\n",
      "\u001b[1mSaved Json file for:\u001b[0m Qez Het Im Ser - Piano Tutorial_11\n",
      "\u001b[1mSaved Json file for:\u001b[0m Qez Het Im Ser - Piano Tutorial_12\n",
      "\u001b[1mSaved Json file for:\u001b[0m Qez Het Im Ser - Piano Tutorial_2\n",
      "\u001b[1mSaved Json file for:\u001b[0m Qez Het Im Ser - Piano Tutorial_3\n",
      "\u001b[1mSaved Json file for:\u001b[0m Qez Het Im Ser - Piano Tutorial_4\n",
      "\u001b[1mSaved Json file for:\u001b[0m Qez Het Im Ser - Piano Tutorial_5\n",
      "\u001b[1mSaved Json file for:\u001b[0m Qez Het Im Ser - Piano Tutorial_6\n",
      "\u001b[1mSaved Json file for:\u001b[0m Qez Het Im Ser - Piano Tutorial_7\n",
      "\u001b[1mSaved Json file for:\u001b[0m Qez Het Im Ser - Piano Tutorial_8\n",
      "\u001b[1mSaved Json file for:\u001b[0m Qez Het Im Ser - Piano Tutorial_9\n",
      "\u001b[1mSaved Json file for:\u001b[0m Tigran Mansuryan - Hin Oreri Ergy - Piano Tutorial_1\n",
      "\u001b[1mSaved Json file for:\u001b[0m Tigran Mansuryan - Hin Oreri Ergy - Piano Tutorial_2\n",
      "\u001b[1mSaved Json file for:\u001b[0m Tigran Mansuryan - Hin Oreri Ergy - Piano Tutorial_3\n",
      "\u001b[1mSaved Json file for:\u001b[0m Tigran Mansuryan - Hin Oreri Ergy - Piano Tutorial_4\n",
      "\u001b[1mSaved Json file for:\u001b[0m Tigran Mansuryan - Hin Oreri Ergy - Piano Tutorial_5\n",
      "\u001b[1mSaved Json file for:\u001b[0m Tigran Mansuryan - Hin Oreri Ergy - Piano Tutorial_6\n",
      "\u001b[1mSaved Json file for:\u001b[0m Tigran Mansuryan - Hin Oreri Ergy - Piano Tutorial_7\n",
      "\u001b[1mSaved Json file for:\u001b[0m Tigran Mansuryan - Hin Oreri Ergy - Piano Tutorial_8\n",
      "\u001b[1mSaved Json file for:\u001b[0m Tigran Mansuryan - Hin Oreri Ergy - Piano Tutorial_9\n",
      "\u001b[1mSaved Json file for:\u001b[0m Tigran Mansuryan - Mer Mankutyan Tangon - Piano Tutorial_1\n",
      "\u001b[1mSaved Json file for:\u001b[0m Tigran Mansuryan - Mer Mankutyan Tangon - Piano Tutorial_2\n",
      "\u001b[1mSaved Json file for:\u001b[0m Tigran Mansuryan - Mer Mankutyan Tangon - Piano Tutorial_3\n",
      "\u001b[1mSaved Json file for:\u001b[0m Tigran Mansuryan - Mer Mankutyan Tangon - Piano Tutorial_4\n",
      "\u001b[1mSaved Json file for:\u001b[0m Tigran Mansuryan - Mer Mankutyan Tangon - Piano Tutorial_5\n",
      "\u001b[1mSaved Json file for:\u001b[0m Tigran Mansuryan - Mer Mankutyan Tangon - Piano Tutorial_6\n",
      "\u001b[1mSaved Json file for:\u001b[0m Tigran Mansuryan - Mer Mankutyan Tangon - Piano Tutorial_7\n",
      "\u001b[1mSaved Json file for:\u001b[0m Tigran Mansuryan - Mer Mankutyan Tangon - Piano Tutorial_8\n",
      "\u001b[1mSaved Json file for:\u001b[0m Tigran Mansuryan - Mer Mankutyan Tangon - Piano Tutorial_9\n",
      "\u001b[1mSaved Json file for:\u001b[0m Tigran Mansuryan - Siro Meghedi - Piano Tutorial_1\n",
      "\u001b[1mSaved Json file for:\u001b[0m Tigran Mansuryan - Siro Meghedi - Piano Tutorial_2\n",
      "\u001b[1mSaved Json file for:\u001b[0m Tigran Mansuryan - Siro Meghedi - Piano Tutorial_3\n",
      "\u001b[1mSaved Json file for:\u001b[0m Tigran Mansuryan - Siro Meghedi - Piano Tutorial_4\n",
      "\u001b[1mSaved Json file for:\u001b[0m Tigran Mansuryan - Siro Meghedi - Piano Tutorial_5\n",
      "\u001b[1mSaved Json file for:\u001b[0m Zartir Lao - Piano Tutorial_1\n",
      "\u001b[1mSaved Json file for:\u001b[0m Zartir Lao - Piano Tutorial_2\n",
      "\u001b[1mSaved Json file for:\u001b[0m Zartir Lao - Piano Tutorial_3\n",
      "\u001b[1mSaved Json file for:\u001b[0m Zartir Lao - Piano Tutorial_4\n",
      "\u001b[1mSaved Json file for:\u001b[0m Zartir Lao - Piano Tutorial_5\n",
      "\u001b[1mSaved Json file for:\u001b[0m Zepyuri Nman - Piano Tutorial_1\n",
      "\u001b[1mSaved Json file for:\u001b[0m Zepyuri Nman - Piano Tutorial_10\n",
      "\u001b[1mSaved Json file for:\u001b[0m Zepyuri Nman - Piano Tutorial_2\n",
      "\u001b[1mSaved Json file for:\u001b[0m Zepyuri Nman - Piano Tutorial_3\n",
      "\u001b[1mSaved Json file for:\u001b[0m Zepyuri Nman - Piano Tutorial_4\n",
      "\u001b[1mSaved Json file for:\u001b[0m Zepyuri Nman - Piano Tutorial_5\n",
      "\u001b[1mSaved Json file for:\u001b[0m Zepyuri Nman - Piano Tutorial_6\n",
      "\u001b[1mSaved Json file for:\u001b[0m Zepyuri Nman - Piano Tutorial_7\n",
      "\u001b[1mSaved Json file for:\u001b[0m Zepyuri Nman - Piano Tutorial_8\n",
      "\u001b[1mSaved Json file for:\u001b[0m Zepyuri Nman - Piano Tutorial_9\n"
     ]
    }
   ],
   "source": [
    "prepare_attributes(split='train')"
   ]
  },
  {
   "cell_type": "code",
   "execution_count": 3,
   "id": "faa974e4-d26d-4192-b654-c9e953042ac2",
   "metadata": {
    "scrolled": true
   },
   "outputs": [
    {
     "name": "stdout",
     "output_type": "stream",
     "text": [
      "\u001b[1mSaved Json file for:\u001b[0m Hayko - Erkrasharj - Piano Tutorial_1\n",
      "\u001b[1mSaved Json file for:\u001b[0m Hayko - Erkrasharj - Piano Tutorial_2\n",
      "\u001b[1mSaved Json file for:\u001b[0m Hayko - Erkrasharj - Piano Tutorial_3\n",
      "\u001b[1mSaved Json file for:\u001b[0m Hayko - Erkrasharj - Piano Tutorial_4\n",
      "\u001b[1mSaved Json file for:\u001b[0m Hayko - Erkrasharj - Piano Tutorial_5\n",
      "\u001b[1mSaved Json file for:\u001b[0m Hayko - Erkrasharj - Piano Tutorial_6\n",
      "\u001b[1mSaved Json file for:\u001b[0m Hayko - Erkrasharj - Piano Tutorial_7\n",
      "\u001b[1mSaved Json file for:\u001b[0m Hayko - Erkrasharj - Piano Tutorial_8\n",
      "\u001b[1mSaved Json file for:\u001b[0m Hayko - Erkrasharj - Piano Tutorial_9\n",
      "\u001b[1mSaved Json file for:\u001b[0m Hayko - Garegin Nzhdeh Soundtrack - Piano Tutorial_1\n",
      "\u001b[1mSaved Json file for:\u001b[0m Hayko - Garegin Nzhdeh Soundtrack - Piano Tutorial_2\n",
      "\u001b[1mSaved Json file for:\u001b[0m Hayko - Garegin Nzhdeh Soundtrack - Piano Tutorial_3\n",
      "\u001b[1mSaved Json file for:\u001b[0m Hayko - Garegin Nzhdeh Soundtrack - Piano Tutorial_4\n",
      "\u001b[1mSaved Json file for:\u001b[0m Hayko - Garegin Nzhdeh Soundtrack - Piano Tutorial_5\n",
      "\u001b[1mSaved Json file for:\u001b[0m Hayko - Garegin Nzhdeh Soundtrack - Piano Tutorial_6\n",
      "\u001b[1mSaved Json file for:\u001b[0m Kyanq U Kriv - Piano Tutorial_1\n",
      "\u001b[1mSaved Json file for:\u001b[0m Kyanq U Kriv - Piano Tutorial_10\n",
      "\u001b[1mSaved Json file for:\u001b[0m Kyanq U Kriv - Piano Tutorial_11\n",
      "\u001b[1mSaved Json file for:\u001b[0m Kyanq U Kriv - Piano Tutorial_12\n",
      "\u001b[1mSaved Json file for:\u001b[0m Kyanq U Kriv - Piano Tutorial_2\n",
      "\u001b[1mSaved Json file for:\u001b[0m Kyanq U Kriv - Piano Tutorial_3\n",
      "\u001b[1mSaved Json file for:\u001b[0m Kyanq U Kriv - Piano Tutorial_4\n",
      "\u001b[1mSaved Json file for:\u001b[0m Kyanq U Kriv - Piano Tutorial_5\n",
      "\u001b[1mSaved Json file for:\u001b[0m Kyanq U Kriv - Piano Tutorial_6\n",
      "\u001b[1mSaved Json file for:\u001b[0m Kyanq U Kriv - Piano Tutorial_7\n",
      "\u001b[1mSaved Json file for:\u001b[0m Kyanq U Kriv - Piano Tutorial_8\n",
      "\u001b[1mSaved Json file for:\u001b[0m Kyanq U Kriv - Piano Tutorial_9\n",
      "\u001b[1mSaved Json file for:\u001b[0m La Boheme - Charles Aznavour - Davit Matevosyan_1\n",
      "\u001b[1mSaved Json file for:\u001b[0m La Boheme - Charles Aznavour - Davit Matevosyan_10\n",
      "\u001b[1mSaved Json file for:\u001b[0m La Boheme - Charles Aznavour - Davit Matevosyan_11\n",
      "\u001b[1mSaved Json file for:\u001b[0m La Boheme - Charles Aznavour - Davit Matevosyan_2\n",
      "\u001b[1mSaved Json file for:\u001b[0m La Boheme - Charles Aznavour - Davit Matevosyan_3\n",
      "\u001b[1mSaved Json file for:\u001b[0m La Boheme - Charles Aznavour - Davit Matevosyan_4\n",
      "\u001b[1mSaved Json file for:\u001b[0m La Boheme - Charles Aznavour - Davit Matevosyan_5\n",
      "\u001b[1mSaved Json file for:\u001b[0m La Boheme - Charles Aznavour - Davit Matevosyan_6\n",
      "\u001b[1mSaved Json file for:\u001b[0m La Boheme - Charles Aznavour - Davit Matevosyan_7\n",
      "\u001b[1mSaved Json file for:\u001b[0m La Boheme - Charles Aznavour - Davit Matevosyan_8\n",
      "\u001b[1mSaved Json file for:\u001b[0m La Boheme - Charles Aznavour - Davit Matevosyan_9\n",
      "\u001b[1mSaved Json file for:\u001b[0m Mer Siro Ashuny - Piano Tutorial_1\n",
      "\u001b[1mSaved Json file for:\u001b[0m Mer Siro Ashuny - Piano Tutorial_10\n",
      "\u001b[1mSaved Json file for:\u001b[0m Mer Siro Ashuny - Piano Tutorial_11\n",
      "\u001b[1mSaved Json file for:\u001b[0m Mer Siro Ashuny - Piano Tutorial_12\n",
      "\u001b[1mSaved Json file for:\u001b[0m Mer Siro Ashuny - Piano Tutorial_13\n",
      "\u001b[1mSaved Json file for:\u001b[0m Mer Siro Ashuny - Piano Tutorial_14\n",
      "\u001b[1mSaved Json file for:\u001b[0m Mer Siro Ashuny - Piano Tutorial_15\n",
      "\u001b[1mSaved Json file for:\u001b[0m Mer Siro Ashuny - Piano Tutorial_16\n",
      "\u001b[1mSaved Json file for:\u001b[0m Mer Siro Ashuny - Piano Tutorial_17\n",
      "\u001b[1mSaved Json file for:\u001b[0m Mer Siro Ashuny - Piano Tutorial_18\n",
      "\u001b[1mSaved Json file for:\u001b[0m Mer Siro Ashuny - Piano Tutorial_2\n",
      "\u001b[1mSaved Json file for:\u001b[0m Mer Siro Ashuny - Piano Tutorial_3\n",
      "\u001b[1mSaved Json file for:\u001b[0m Mer Siro Ashuny - Piano Tutorial_4\n",
      "\u001b[1mSaved Json file for:\u001b[0m Mer Siro Ashuny - Piano Tutorial_5\n",
      "\u001b[1mSaved Json file for:\u001b[0m Mer Siro Ashuny - Piano Tutorial_6\n",
      "\u001b[1mSaved Json file for:\u001b[0m Mer Siro Ashuny - Piano Tutorial_7\n",
      "\u001b[1mSaved Json file for:\u001b[0m Mer Siro Ashuny - Piano Tutorial_8\n",
      "\u001b[1mSaved Json file for:\u001b[0m Mer Siro Ashuny - Piano Tutorial_9\n",
      "\u001b[1mSaved Json file for:\u001b[0m Tigran Mansuryan - Chermak Anurjner - Piano Tutorial_1\n",
      "\u001b[1mSaved Json file for:\u001b[0m Tigran Mansuryan - Chermak Anurjner - Piano Tutorial_2\n",
      "\u001b[1mSaved Json file for:\u001b[0m Tigran Mansuryan - Chermak Anurjner - Piano Tutorial_3\n",
      "\u001b[1mSaved Json file for:\u001b[0m Tigran Mansuryan - Chermak Anurjner - Piano Tutorial_4\n",
      "\u001b[1mSaved Json file for:\u001b[0m Tigran Mansuryan - Chermak Anurjner - Piano Tutorial_5\n",
      "\u001b[1mSaved Json file for:\u001b[0m Tigran Mansuryan - Chermak Anurjner - Piano Tutorial_6\n",
      "\u001b[1mSaved Json file for:\u001b[0m Tigran Mansuryan - Chermak Anurjner - Piano Tutorial_7\n",
      "\u001b[1mSaved Json file for:\u001b[0m Tonakan Par - Gevush Araqelyan (zurna) Գևուշ Առաքելյան - Տոնական Պար_1\n",
      "\u001b[1mSaved Json file for:\u001b[0m Tonakan Par - Gevush Araqelyan (zurna) Գևուշ Առաքելյան - Տոնական Պար_10\n",
      "\u001b[1mSaved Json file for:\u001b[0m Tonakan Par - Gevush Araqelyan (zurna) Գևուշ Առաքելյան - Տոնական Պար_11\n",
      "\u001b[1mSaved Json file for:\u001b[0m Tonakan Par - Gevush Araqelyan (zurna) Գևուշ Առաքելյան - Տոնական Պար_12\n",
      "\u001b[1mSaved Json file for:\u001b[0m Tonakan Par - Gevush Araqelyan (zurna) Գևուշ Առաքելյան - Տոնական Պար_13\n",
      "\u001b[1mSaved Json file for:\u001b[0m Tonakan Par - Gevush Araqelyan (zurna) Գևուշ Առաքելյան - Տոնական Պար_14\n",
      "\u001b[1mSaved Json file for:\u001b[0m Tonakan Par - Gevush Araqelyan (zurna) Գևուշ Առաքելյան - Տոնական Պար_15\n",
      "\u001b[1mSaved Json file for:\u001b[0m Tonakan Par - Gevush Araqelyan (zurna) Գևուշ Առաքելյան - Տոնական Պար_16\n",
      "\u001b[1mSaved Json file for:\u001b[0m Tonakan Par - Gevush Araqelyan (zurna) Գևուշ Առաքելյան - Տոնական Պար_17\n",
      "\u001b[1mSaved Json file for:\u001b[0m Tonakan Par - Gevush Araqelyan (zurna) Գևուշ Առաքելյան - Տոնական Պար_18\n",
      "\u001b[1mSaved Json file for:\u001b[0m Tonakan Par - Gevush Araqelyan (zurna) Գևուշ Առաքելյան - Տոնական Պար_19\n",
      "\u001b[1mSaved Json file for:\u001b[0m Tonakan Par - Gevush Araqelyan (zurna) Գևուշ Առաքելյան - Տոնական Պար_2\n",
      "\u001b[1mSaved Json file for:\u001b[0m Tonakan Par - Gevush Araqelyan (zurna) Գևուշ Առաքելյան - Տոնական Պար_20\n",
      "\u001b[1mSaved Json file for:\u001b[0m Tonakan Par - Gevush Araqelyan (zurna) Գևուշ Առաքելյան - Տոնական Պար_3\n",
      "\u001b[1mSaved Json file for:\u001b[0m Tonakan Par - Gevush Araqelyan (zurna) Գևուշ Առաքելյան - Տոնական Պար_4\n",
      "\u001b[1mSaved Json file for:\u001b[0m Tonakan Par - Gevush Araqelyan (zurna) Գևուշ Առաքելյան - Տոնական Պար_5\n",
      "\u001b[1mSaved Json file for:\u001b[0m Tonakan Par - Gevush Araqelyan (zurna) Գևուշ Առաքելյան - Տոնական Պար_6\n",
      "\u001b[1mSaved Json file for:\u001b[0m Tonakan Par - Gevush Araqelyan (zurna) Գևուշ Առաքելյան - Տոնական Պար_7\n",
      "\u001b[1mSaved Json file for:\u001b[0m Tonakan Par - Gevush Araqelyan (zurna) Գևուշ Առաքելյան - Տոնական Պար_8\n",
      "\u001b[1mSaved Json file for:\u001b[0m Tonakan Par - Gevush Araqelyan (zurna) Գևուշ Առաքելյան - Տոնական Պար_9\n",
      "\u001b[1mSaved Json file for:\u001b[0m Uzundara - Davit MatevosyanՈւզունդարա - Узундара_1\n",
      "\u001b[1mSaved Json file for:\u001b[0m Uzundara - Davit MatevosyanՈւզունդարա - Узундара_10\n",
      "\u001b[1mSaved Json file for:\u001b[0m Uzundara - Davit MatevosyanՈւզունդարա - Узундара_11\n",
      "\u001b[1mSaved Json file for:\u001b[0m Uzundara - Davit MatevosyanՈւզունդարա - Узундара_12\n",
      "\u001b[1mSaved Json file for:\u001b[0m Uzundara - Davit MatevosyanՈւզունդարա - Узундара_2\n",
      "\u001b[1mSaved Json file for:\u001b[0m Uzundara - Davit MatevosyanՈւզունդարա - Узундара_3\n",
      "\u001b[1mSaved Json file for:\u001b[0m Uzundara - Davit MatevosyanՈւզունդարա - Узундара_4\n",
      "\u001b[1mSaved Json file for:\u001b[0m Uzundara - Davit MatevosyanՈւզունդարա - Узундара_5\n",
      "\u001b[1mSaved Json file for:\u001b[0m Uzundara - Davit MatevosyanՈւզունդարա - Узундара_6\n",
      "\u001b[1mSaved Json file for:\u001b[0m Uzundara - Davit MatevosyanՈւզունդարա - Узундара_7\n",
      "\u001b[1mSaved Json file for:\u001b[0m Uzundara - Davit MatevosyanՈւզունդարա - Узундара_8\n",
      "\u001b[1mSaved Json file for:\u001b[0m Uzundara - Davit MatevosyanՈւզունդարա - Узундара_9\n",
      "\u001b[1mSaved Json file for:\u001b[0m Zurnayi Pareri sharan - Gevush Araqelyan Զուռնայի պարերի շարան- Գևուշ Առաքելյան_1\n",
      "\u001b[1mSaved Json file for:\u001b[0m Zurnayi Pareri sharan - Gevush Araqelyan Զուռնայի պարերի շարան- Գևուշ Առաքելյան_10\n",
      "\u001b[1mSaved Json file for:\u001b[0m Zurnayi Pareri sharan - Gevush Araqelyan Զուռնայի պարերի շարան- Գևուշ Առաքելյան_11\n",
      "\u001b[1mSaved Json file for:\u001b[0m Zurnayi Pareri sharan - Gevush Araqelyan Զուռնայի պարերի շարան- Գևուշ Առաքելյան_12\n",
      "\u001b[1mSaved Json file for:\u001b[0m Zurnayi Pareri sharan - Gevush Araqelyan Զուռնայի պարերի շարան- Գևուշ Առաքելյան_13\n",
      "\u001b[1mSaved Json file for:\u001b[0m Zurnayi Pareri sharan - Gevush Araqelyan Զուռնայի պարերի շարան- Գևուշ Առաքելյան_14\n",
      "\u001b[1mSaved Json file for:\u001b[0m Zurnayi Pareri sharan - Gevush Araqelyan Զուռնայի պարերի շարան- Գևուշ Առաքելյան_15\n",
      "\u001b[1mSaved Json file for:\u001b[0m Zurnayi Pareri sharan - Gevush Araqelyan Զուռնայի պարերի շարան- Գևուշ Առաքելյան_16\n",
      "\u001b[1mSaved Json file for:\u001b[0m Zurnayi Pareri sharan - Gevush Araqelyan Զուռնայի պարերի շարան- Գևուշ Առաքելյան_17\n",
      "\u001b[1mSaved Json file for:\u001b[0m Zurnayi Pareri sharan - Gevush Araqelyan Զուռնայի պարերի շարան- Գևուշ Առաքելյան_2\n",
      "\u001b[1mSaved Json file for:\u001b[0m Zurnayi Pareri sharan - Gevush Araqelyan Զուռնայի պարերի շարան- Գևուշ Առաքելյան_3\n",
      "\u001b[1mSaved Json file for:\u001b[0m Zurnayi Pareri sharan - Gevush Araqelyan Զուռնայի պարերի շարան- Գևուշ Առաքելյան_4\n",
      "\u001b[1mSaved Json file for:\u001b[0m Zurnayi Pareri sharan - Gevush Araqelyan Զուռնայի պարերի շարան- Գևուշ Առաքելյան_5\n",
      "\u001b[1mSaved Json file for:\u001b[0m Zurnayi Pareri sharan - Gevush Araqelyan Զուռնայի պարերի շարան- Գևուշ Առաքելյան_6\n",
      "\u001b[1mSaved Json file for:\u001b[0m Zurnayi Pareri sharan - Gevush Araqelyan Զուռնայի պարերի շարան- Գևուշ Առաքելյան_7\n",
      "\u001b[1mSaved Json file for:\u001b[0m Zurnayi Pareri sharan - Gevush Araqelyan Զուռնայի պարերի շարան- Գևուշ Առաքելյան_8\n",
      "\u001b[1mSaved Json file for:\u001b[0m Zurnayi Pareri sharan - Gevush Araqelyan Զուռնայի պարերի շարան- Գևուշ Առաքելյան_9\n",
      "\u001b[1mSaved Json file for:\u001b[0m Արևոտ անձրև  Arevot andzrev - Davit Matevosyan_1\n",
      "\u001b[1mSaved Json file for:\u001b[0m Արևոտ անձրև  Arevot andzrev - Davit Matevosyan_10\n",
      "\u001b[1mSaved Json file for:\u001b[0m Արևոտ անձրև  Arevot andzrev - Davit Matevosyan_11\n",
      "\u001b[1mSaved Json file for:\u001b[0m Արևոտ անձրև  Arevot andzrev - Davit Matevosyan_12\n",
      "\u001b[1mSaved Json file for:\u001b[0m Արևոտ անձրև  Arevot andzrev - Davit Matevosyan_13\n",
      "\u001b[1mSaved Json file for:\u001b[0m Արևոտ անձրև  Arevot andzrev - Davit Matevosyan_14\n",
      "\u001b[1mSaved Json file for:\u001b[0m Արևոտ անձրև  Arevot andzrev - Davit Matevosyan_15\n",
      "\u001b[1mSaved Json file for:\u001b[0m Արևոտ անձրև  Arevot andzrev - Davit Matevosyan_16\n",
      "\u001b[1mSaved Json file for:\u001b[0m Արևոտ անձրև  Arevot andzrev - Davit Matevosyan_17\n",
      "\u001b[1mSaved Json file for:\u001b[0m Արևոտ անձրև  Arevot andzrev - Davit Matevosyan_18\n",
      "\u001b[1mSaved Json file for:\u001b[0m Արևոտ անձրև  Arevot andzrev - Davit Matevosyan_19\n",
      "\u001b[1mSaved Json file for:\u001b[0m Արևոտ անձրև  Arevot andzrev - Davit Matevosyan_2\n",
      "\u001b[1mSaved Json file for:\u001b[0m Արևոտ անձրև  Arevot andzrev - Davit Matevosyan_20\n",
      "\u001b[1mSaved Json file for:\u001b[0m Արևոտ անձրև  Arevot andzrev - Davit Matevosyan_21\n",
      "\u001b[1mSaved Json file for:\u001b[0m Արևոտ անձրև  Arevot andzrev - Davit Matevosyan_22\n",
      "\u001b[1mSaved Json file for:\u001b[0m Արևոտ անձրև  Arevot andzrev - Davit Matevosyan_3\n",
      "\u001b[1mSaved Json file for:\u001b[0m Արևոտ անձրև  Arevot andzrev - Davit Matevosyan_4\n",
      "\u001b[1mSaved Json file for:\u001b[0m Արևոտ անձրև  Arevot andzrev - Davit Matevosyan_5\n",
      "\u001b[1mSaved Json file for:\u001b[0m Արևոտ անձրև  Arevot andzrev - Davit Matevosyan_6\n",
      "\u001b[1mSaved Json file for:\u001b[0m Արևոտ անձրև  Arevot andzrev - Davit Matevosyan_7\n",
      "\u001b[1mSaved Json file for:\u001b[0m Արևոտ անձրև  Arevot andzrev - Davit Matevosyan_8\n",
      "\u001b[1mSaved Json file for:\u001b[0m Արևոտ անձրև  Arevot andzrev - Davit Matevosyan_9\n"
     ]
    }
   ],
   "source": [
    "prepare_attributes(split='validation')"
   ]
  },
  {
   "cell_type": "markdown",
   "id": "d63d55bf-8cac-4130-988a-4ddff6e50168",
   "metadata": {},
   "source": [
    "# Fill Json and Jsonl file"
   ]
  },
  {
   "cell_type": "code",
   "execution_count": 4,
   "id": "ab87e65f-b4b8-4705-a906-b5f99fe362ce",
   "metadata": {},
   "outputs": [],
   "source": [
    "from audiocraft.data.create_data import fill_json_split"
   ]
  },
  {
   "cell_type": "code",
   "execution_count": 5,
   "id": "46f8cd83-328b-48d7-8779-23f6fd1a5681",
   "metadata": {},
   "outputs": [],
   "source": [
    "fill_json_split(split='train')"
   ]
  },
  {
   "cell_type": "code",
   "execution_count": 6,
   "id": "ee912d8a-7fdf-44f1-b919-106facbc5d42",
   "metadata": {},
   "outputs": [],
   "source": [
    "fill_json_split(split='validation')"
   ]
  }
 ],
 "metadata": {
  "kernelspec": {
   "display_name": "MusicGen",
   "language": "python",
   "name": "musicgen"
  },
  "language_info": {
   "codemirror_mode": {
    "name": "ipython",
    "version": 3
   },
   "file_extension": ".py",
   "mimetype": "text/x-python",
   "name": "python",
   "nbconvert_exporter": "python",
   "pygments_lexer": "ipython3",
   "version": "3.9.0"
  }
 },
 "nbformat": 4,
 "nbformat_minor": 5
}
