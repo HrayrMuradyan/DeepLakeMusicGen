{
 "cells": [
  {
   "cell_type": "markdown",
   "id": "35170011",
   "metadata": {},
   "source": [
    "# Downloading Youtube Video"
   ]
  },
  {
   "cell_type": "markdown",
   "id": "21b404c3-a07d-41b6-958b-55b0985d5c59",
   "metadata": {},
   "source": [
    "For the full documentation refer to the PDF file called <b>Data Documentation.pdf</b>"
   ]
  },
  {
   "cell_type": "code",
   "execution_count": 1,
   "id": "b71fb0a7-7359-4ba9-9931-be028653c62d",
   "metadata": {},
   "outputs": [],
   "source": [
    "import warnings\n",
    "warnings.filterwarnings(\"ignore\")"
   ]
  },
  {
   "cell_type": "code",
   "execution_count": 2,
   "id": "a39f012f",
   "metadata": {
    "scrolled": true
   },
   "outputs": [
    {
     "name": "stderr",
     "output_type": "stream",
     "text": [
      "A matching Triton is not available, some optimizations will not be enabled.\n",
      "Error caught was: No module named 'triton'\n"
     ]
    }
   ],
   "source": [
    "from audiocraft.data.create_data import download_split"
   ]
  },
  {
   "cell_type": "code",
   "execution_count": 4,
   "id": "e6f61b91-2511-47b6-93fa-fb25d8f1418b",
   "metadata": {},
   "outputs": [
    {
     "name": "stdout",
     "output_type": "stream",
     "text": [
      "..\\Dataset\\raw_music\\train\\Patranqi Tevov - Piano Tutorial.wav \u001b[1malready exists. Skipping...\u001b[0m\n",
      "..\\Dataset\\raw_music\\train\\Arto Tuncboyaciyan - Zeytuni Zar - Piano Tutorial.wav \u001b[1malready exists. Skipping...\u001b[0m\n"
     ]
    },
    {
     "name": "stderr",
     "output_type": "stream",
     "text": [
      "\n",
      "KeyboardInterrupt\n",
      "\n"
     ]
    }
   ],
   "source": [
    "download_split(split='train')"
   ]
  },
  {
   "cell_type": "code",
   "execution_count": 4,
   "id": "6b316f53-4b66-4893-94d4-507cae5fbbf0",
   "metadata": {},
   "outputs": [],
   "source": [
    "# download_split(split='validation')"
   ]
  },
  {
   "cell_type": "markdown",
   "id": "b3504d70-3d86-4916-9809-ec101ce9b94d",
   "metadata": {},
   "source": [
    "# Data Splitter"
   ]
  },
  {
   "cell_type": "code",
   "execution_count": 5,
   "id": "2df7f368-7efb-4f97-8267-c6e764a68572",
   "metadata": {},
   "outputs": [],
   "source": [
    "from audiocraft.data.create_data import divide_into_clips"
   ]
  },
  {
   "cell_type": "code",
   "execution_count": 6,
   "id": "877596d6-a730-41e9-ae4d-123ad525ef90",
   "metadata": {},
   "outputs": [
    {
     "name": "stdout",
     "output_type": "stream",
     "text": [
      "Done: ..\\Dataset\\raw_music\\train\\Ampi Takic Jur E Galis - Piano Tutorial.wav\n",
      "Done: ..\\Dataset\\raw_music\\train\\Ari Im Soxak - Piano Tutorial.wav\n",
      "Done: ..\\Dataset\\raw_music\\train\\Arto Tuncboyaciyan - Zeytuni Zar - Piano Tutorial.wav\n",
      "Done: ..\\Dataset\\raw_music\\train\\Aryunot Drosh - Piano Tutorial.wav\n",
      "Done: ..\\Dataset\\raw_music\\train\\Bari Aragil - Piano Tutorial.wav\n",
      "Done: ..\\Dataset\\raw_music\\train\\Erevan Erebuni - Piano Tutorial.wav\n",
      "Done: ..\\Dataset\\raw_music\\train\\Gari Ayvazyan - Irina - Piano Tutorial.wav\n",
      "Done: ..\\Dataset\\raw_music\\train\\Giqor Filmi Erajshtutyuny - Piano Tutorial.wav\n",
      "Done: ..\\Dataset\\raw_music\\train\\Hayi Achqer - Piano Tutorial.wav\n",
      "Done: ..\\Dataset\\raw_music\\train\\Hayko - Xachagoxi Hishatakaran - Piano Tutorial.wav\n",
      "Done: ..\\Dataset\\raw_music\\train\\Karmir Caxik Me Garuni - Piano Tutorial.wav\n",
      "Done: ..\\Dataset\\raw_music\\train\\Kilikia - Piano Tutorial.wav\n",
      "Done: ..\\Dataset\\raw_music\\train\\Komitas - Garun A - Piano Tutorial.wav\n",
      "Done: ..\\Dataset\\raw_music\\train\\Komitas - Kaqavik - Piano Piano Tutorial.wav\n",
      "Done: ..\\Dataset\\raw_music\\train\\Komitas - Shushiki - Piano Tutorial.wav\n",
      "Done: ..\\Dataset\\raw_music\\train\\Kyanq u Kriv - Piano Tutorial.wav\n",
      "Done: ..\\Dataset\\raw_music\\train\\Makhmur Aghjik - Piano Tutorial.wav\n",
      "Done: ..\\Dataset\\raw_music\\train\\Patranqi Tevov - Piano Tutorial.wav\n",
      "Done: ..\\Dataset\\raw_music\\train\\Qez Het Im Ser - Piano Tutorial.wav\n",
      "Done: ..\\Dataset\\raw_music\\train\\Tigran Mansuryan - Hin Oreri Ergy - Piano Tutorial.wav\n",
      "Done: ..\\Dataset\\raw_music\\train\\Tigran Mansuryan - Mer Mankutyan Tangon - Piano Tutorial.wav\n",
      "Done: ..\\Dataset\\raw_music\\train\\Tigran Mansuryan - Siro Meghedi - Piano Tutorial.wav\n",
      "Done: ..\\Dataset\\raw_music\\train\\Zartir Lao - Piano Tutorial.wav\n",
      "Done: ..\\Dataset\\raw_music\\train\\Zepyuri Nman - Piano Tutorial.wav\n"
     ]
    }
   ],
   "source": [
    "divide_into_clips(split='train', raw_music_path='../Dataset/raw_music/', clip_duration=30, stride=15)"
   ]
  },
  {
   "cell_type": "code",
   "execution_count": 7,
   "id": "2d433c31-c172-4c42-8b4c-676708a41cf9",
   "metadata": {},
   "outputs": [],
   "source": [
    "# divide_into_clips(split='validation', raw_music_path='../Dataset/raw_music/', clip_duration=30, stride=15)"
   ]
  },
  {
   "cell_type": "markdown",
   "id": "8d918e82-6fe8-44ed-88a5-9e2bda3f8ab9",
   "metadata": {},
   "source": [
    "# Data Preprocessor"
   ]
  },
  {
   "cell_type": "code",
   "execution_count": 7,
   "id": "59c8ce48-2bfc-4084-a9ae-e3904e67e79c",
   "metadata": {},
   "outputs": [],
   "source": [
    "from audiocraft.data.create_data import prepare_attributes"
   ]
  },
  {
   "cell_type": "code",
   "execution_count": 8,
   "id": "2f631299-de14-4ebb-ab73-4653005ff650",
   "metadata": {},
   "outputs": [
    {
     "name": "stdout",
     "output_type": "stream",
     "text": [
      "\u001b[1mSaved Json file for:\u001b[0m Ampi Takic Jur E Galis - Piano Tutorial_1\n",
      "\u001b[1mSaved Json file for:\u001b[0m Ampi Takic Jur E Galis - Piano Tutorial_2\n",
      "\u001b[1mSaved Json file for:\u001b[0m Ampi Takic Jur E Galis - Piano Tutorial_3\n",
      "\u001b[1mSaved Json file for:\u001b[0m Ampi Takic Jur E Galis - Piano Tutorial_4\n",
      "\u001b[1mSaved Json file for:\u001b[0m Ari Im Soxak - Piano Tutorial_1\n",
      "\u001b[1mSaved Json file for:\u001b[0m Ari Im Soxak - Piano Tutorial_2\n",
      "\u001b[1mSaved Json file for:\u001b[0m Ari Im Soxak - Piano Tutorial_3\n",
      "\u001b[1mSaved Json file for:\u001b[0m Ari Im Soxak - Piano Tutorial_4\n",
      "\u001b[1mSaved Json file for:\u001b[0m Ari Im Soxak - Piano Tutorial_5\n",
      "\u001b[1mSaved Json file for:\u001b[0m Ari Im Soxak - Piano Tutorial_6\n",
      "\u001b[1mSaved Json file for:\u001b[0m Ari Im Soxak - Piano Tutorial_7\n",
      "\u001b[1mSaved Json file for:\u001b[0m Ari Im Soxak - Piano Tutorial_8\n",
      "\u001b[1mSaved Json file for:\u001b[0m Arto Tuncboyaciyan - Zeytuni Zar - Piano Tutorial_1\n",
      "\u001b[1mSaved Json file for:\u001b[0m Arto Tuncboyaciyan - Zeytuni Zar - Piano Tutorial_10\n",
      "\u001b[1mSaved Json file for:\u001b[0m Arto Tuncboyaciyan - Zeytuni Zar - Piano Tutorial_11\n",
      "\u001b[1mSaved Json file for:\u001b[0m Arto Tuncboyaciyan - Zeytuni Zar - Piano Tutorial_12\n",
      "\u001b[1mSaved Json file for:\u001b[0m Arto Tuncboyaciyan - Zeytuni Zar - Piano Tutorial_13\n",
      "\u001b[1mSaved Json file for:\u001b[0m Arto Tuncboyaciyan - Zeytuni Zar - Piano Tutorial_14\n",
      "\u001b[1mSaved Json file for:\u001b[0m Arto Tuncboyaciyan - Zeytuni Zar - Piano Tutorial_15\n",
      "\u001b[1mSaved Json file for:\u001b[0m Arto Tuncboyaciyan - Zeytuni Zar - Piano Tutorial_16\n",
      "\u001b[1mSaved Json file for:\u001b[0m Arto Tuncboyaciyan - Zeytuni Zar - Piano Tutorial_17\n",
      "\u001b[1mSaved Json file for:\u001b[0m Arto Tuncboyaciyan - Zeytuni Zar - Piano Tutorial_2\n",
      "\u001b[1mSaved Json file for:\u001b[0m Arto Tuncboyaciyan - Zeytuni Zar - Piano Tutorial_3\n",
      "\u001b[1mSaved Json file for:\u001b[0m Arto Tuncboyaciyan - Zeytuni Zar - Piano Tutorial_4\n",
      "\u001b[1mSaved Json file for:\u001b[0m Arto Tuncboyaciyan - Zeytuni Zar - Piano Tutorial_5\n",
      "\u001b[1mSaved Json file for:\u001b[0m Arto Tuncboyaciyan - Zeytuni Zar - Piano Tutorial_6\n",
      "\u001b[1mSaved Json file for:\u001b[0m Arto Tuncboyaciyan - Zeytuni Zar - Piano Tutorial_7\n",
      "\u001b[1mSaved Json file for:\u001b[0m Arto Tuncboyaciyan - Zeytuni Zar - Piano Tutorial_8\n",
      "\u001b[1mSaved Json file for:\u001b[0m Arto Tuncboyaciyan - Zeytuni Zar - Piano Tutorial_9\n",
      "\u001b[1mSaved Json file for:\u001b[0m Aryunot Drosh - Piano Tutorial_1\n",
      "\u001b[1mSaved Json file for:\u001b[0m Aryunot Drosh - Piano Tutorial_2\n",
      "\u001b[1mSaved Json file for:\u001b[0m Aryunot Drosh - Piano Tutorial_3\n",
      "\u001b[1mSaved Json file for:\u001b[0m Aryunot Drosh - Piano Tutorial_4\n",
      "\u001b[1mSaved Json file for:\u001b[0m Aryunot Drosh - Piano Tutorial_5\n",
      "\u001b[1mSaved Json file for:\u001b[0m Aryunot Drosh - Piano Tutorial_6\n",
      "\u001b[1mSaved Json file for:\u001b[0m Bari Aragil - Piano Tutorial_1\n",
      "\u001b[1mSaved Json file for:\u001b[0m Bari Aragil - Piano Tutorial_2\n",
      "\u001b[1mSaved Json file for:\u001b[0m Bari Aragil - Piano Tutorial_3\n",
      "\u001b[1mSaved Json file for:\u001b[0m Bari Aragil - Piano Tutorial_4\n",
      "\u001b[1mSaved Json file for:\u001b[0m Bari Aragil - Piano Tutorial_5\n",
      "\u001b[1mSaved Json file for:\u001b[0m Erevan Erebuni - Piano Tutorial_1\n",
      "\u001b[1mSaved Json file for:\u001b[0m Erevan Erebuni - Piano Tutorial_10\n",
      "\u001b[1mSaved Json file for:\u001b[0m Erevan Erebuni - Piano Tutorial_11\n",
      "\u001b[1mSaved Json file for:\u001b[0m Erevan Erebuni - Piano Tutorial_12\n",
      "\u001b[1mSaved Json file for:\u001b[0m Erevan Erebuni - Piano Tutorial_2\n",
      "\u001b[1mSaved Json file for:\u001b[0m Erevan Erebuni - Piano Tutorial_3\n",
      "\u001b[1mSaved Json file for:\u001b[0m Erevan Erebuni - Piano Tutorial_4\n",
      "\u001b[1mSaved Json file for:\u001b[0m Erevan Erebuni - Piano Tutorial_5\n",
      "\u001b[1mSaved Json file for:\u001b[0m Erevan Erebuni - Piano Tutorial_6\n",
      "\u001b[1mSaved Json file for:\u001b[0m Erevan Erebuni - Piano Tutorial_7\n",
      "\u001b[1mSaved Json file for:\u001b[0m Erevan Erebuni - Piano Tutorial_8\n",
      "\u001b[1mSaved Json file for:\u001b[0m Erevan Erebuni - Piano Tutorial_9\n",
      "\u001b[1mSaved Json file for:\u001b[0m Gari Ayvazyan - Irina - Piano Tutorial_1\n",
      "\u001b[1mSaved Json file for:\u001b[0m Gari Ayvazyan - Irina - Piano Tutorial_10\n",
      "\u001b[1mSaved Json file for:\u001b[0m Gari Ayvazyan - Irina - Piano Tutorial_11\n",
      "\u001b[1mSaved Json file for:\u001b[0m Gari Ayvazyan - Irina - Piano Tutorial_12\n",
      "\u001b[1mSaved Json file for:\u001b[0m Gari Ayvazyan - Irina - Piano Tutorial_13\n",
      "\u001b[1mSaved Json file for:\u001b[0m Gari Ayvazyan - Irina - Piano Tutorial_14\n",
      "\u001b[1mSaved Json file for:\u001b[0m Gari Ayvazyan - Irina - Piano Tutorial_15\n",
      "\u001b[1mSaved Json file for:\u001b[0m Gari Ayvazyan - Irina - Piano Tutorial_16\n",
      "\u001b[1mSaved Json file for:\u001b[0m Gari Ayvazyan - Irina - Piano Tutorial_17\n",
      "\u001b[1mSaved Json file for:\u001b[0m Gari Ayvazyan - Irina - Piano Tutorial_18\n",
      "\u001b[1mSaved Json file for:\u001b[0m Gari Ayvazyan - Irina - Piano Tutorial_19\n",
      "\u001b[1mSaved Json file for:\u001b[0m Gari Ayvazyan - Irina - Piano Tutorial_2\n",
      "\u001b[1mSaved Json file for:\u001b[0m Gari Ayvazyan - Irina - Piano Tutorial_3\n",
      "\u001b[1mSaved Json file for:\u001b[0m Gari Ayvazyan - Irina - Piano Tutorial_4\n",
      "\u001b[1mSaved Json file for:\u001b[0m Gari Ayvazyan - Irina - Piano Tutorial_5\n",
      "\u001b[1mSaved Json file for:\u001b[0m Gari Ayvazyan - Irina - Piano Tutorial_6\n",
      "\u001b[1mSaved Json file for:\u001b[0m Gari Ayvazyan - Irina - Piano Tutorial_7\n",
      "\u001b[1mSaved Json file for:\u001b[0m Gari Ayvazyan - Irina - Piano Tutorial_8\n",
      "\u001b[1mSaved Json file for:\u001b[0m Gari Ayvazyan - Irina - Piano Tutorial_9\n",
      "\u001b[1mSaved Json file for:\u001b[0m Giqor Filmi Erajshtutyuny - Piano Tutorial_1\n",
      "\u001b[1mSaved Json file for:\u001b[0m Giqor Filmi Erajshtutyuny - Piano Tutorial_2\n",
      "\u001b[1mSaved Json file for:\u001b[0m Giqor Filmi Erajshtutyuny - Piano Tutorial_3\n",
      "\u001b[1mSaved Json file for:\u001b[0m Giqor Filmi Erajshtutyuny - Piano Tutorial_4\n",
      "\u001b[1mSaved Json file for:\u001b[0m Giqor Filmi Erajshtutyuny - Piano Tutorial_5\n",
      "\u001b[1mSaved Json file for:\u001b[0m Giqor Filmi Erajshtutyuny - Piano Tutorial_6\n",
      "\u001b[1mSaved Json file for:\u001b[0m Giqor Filmi Erajshtutyuny - Piano Tutorial_7\n",
      "\u001b[1mSaved Json file for:\u001b[0m Giqor Filmi Erajshtutyuny - Piano Tutorial_8\n",
      "\u001b[1mSaved Json file for:\u001b[0m Giqor Filmi Erajshtutyuny - Piano Tutorial_9\n",
      "\u001b[1mSaved Json file for:\u001b[0m Hayi Achqer - Piano Tutorial_1\n",
      "\u001b[1mSaved Json file for:\u001b[0m Hayi Achqer - Piano Tutorial_10\n",
      "\u001b[1mSaved Json file for:\u001b[0m Hayi Achqer - Piano Tutorial_11\n",
      "\u001b[1mSaved Json file for:\u001b[0m Hayi Achqer - Piano Tutorial_2\n",
      "\u001b[1mSaved Json file for:\u001b[0m Hayi Achqer - Piano Tutorial_3\n",
      "\u001b[1mSaved Json file for:\u001b[0m Hayi Achqer - Piano Tutorial_4\n",
      "\u001b[1mSaved Json file for:\u001b[0m Hayi Achqer - Piano Tutorial_5\n",
      "\u001b[1mSaved Json file for:\u001b[0m Hayi Achqer - Piano Tutorial_6\n",
      "\u001b[1mSaved Json file for:\u001b[0m Hayi Achqer - Piano Tutorial_7\n",
      "\u001b[1mSaved Json file for:\u001b[0m Hayi Achqer - Piano Tutorial_8\n",
      "\u001b[1mSaved Json file for:\u001b[0m Hayi Achqer - Piano Tutorial_9\n",
      "\u001b[1mSaved Json file for:\u001b[0m Hayko - Xachagoxi Hishatakaran - Piano Tutorial_1\n",
      "\u001b[1mSaved Json file for:\u001b[0m Hayko - Xachagoxi Hishatakaran - Piano Tutorial_2\n",
      "\u001b[1mSaved Json file for:\u001b[0m Hayko - Xachagoxi Hishatakaran - Piano Tutorial_3\n",
      "\u001b[1mSaved Json file for:\u001b[0m Hayko - Xachagoxi Hishatakaran - Piano Tutorial_4\n",
      "\u001b[1mSaved Json file for:\u001b[0m Hayko - Xachagoxi Hishatakaran - Piano Tutorial_5\n",
      "\u001b[1mSaved Json file for:\u001b[0m Karmir Caxik Me Garuni - Piano Tutorial_1\n",
      "\u001b[1mSaved Json file for:\u001b[0m Karmir Caxik Me Garuni - Piano Tutorial_10\n",
      "\u001b[1mSaved Json file for:\u001b[0m Karmir Caxik Me Garuni - Piano Tutorial_11\n",
      "\u001b[1mSaved Json file for:\u001b[0m Karmir Caxik Me Garuni - Piano Tutorial_12\n",
      "\u001b[1mSaved Json file for:\u001b[0m Karmir Caxik Me Garuni - Piano Tutorial_2\n",
      "\u001b[1mSaved Json file for:\u001b[0m Karmir Caxik Me Garuni - Piano Tutorial_3\n",
      "\u001b[1mSaved Json file for:\u001b[0m Karmir Caxik Me Garuni - Piano Tutorial_4\n",
      "\u001b[1mSaved Json file for:\u001b[0m Karmir Caxik Me Garuni - Piano Tutorial_5\n",
      "\u001b[1mSaved Json file for:\u001b[0m Karmir Caxik Me Garuni - Piano Tutorial_6\n",
      "\u001b[1mSaved Json file for:\u001b[0m Karmir Caxik Me Garuni - Piano Tutorial_7\n",
      "\u001b[1mSaved Json file for:\u001b[0m Karmir Caxik Me Garuni - Piano Tutorial_8\n",
      "\u001b[1mSaved Json file for:\u001b[0m Karmir Caxik Me Garuni - Piano Tutorial_9\n",
      "\u001b[1mSaved Json file for:\u001b[0m Kilikia - Piano Tutorial_1\n",
      "\u001b[1mSaved Json file for:\u001b[0m Kilikia - Piano Tutorial_10\n",
      "\u001b[1mSaved Json file for:\u001b[0m Kilikia - Piano Tutorial_11\n",
      "\u001b[1mSaved Json file for:\u001b[0m Kilikia - Piano Tutorial_2\n",
      "\u001b[1mSaved Json file for:\u001b[0m Kilikia - Piano Tutorial_3\n",
      "\u001b[1mSaved Json file for:\u001b[0m Kilikia - Piano Tutorial_4\n",
      "\u001b[1mSaved Json file for:\u001b[0m Kilikia - Piano Tutorial_5\n",
      "\u001b[1mSaved Json file for:\u001b[0m Kilikia - Piano Tutorial_6\n",
      "\u001b[1mSaved Json file for:\u001b[0m Kilikia - Piano Tutorial_7\n",
      "\u001b[1mSaved Json file for:\u001b[0m Kilikia - Piano Tutorial_8\n",
      "\u001b[1mSaved Json file for:\u001b[0m Kilikia - Piano Tutorial_9\n",
      "\u001b[1mSaved Json file for:\u001b[0m Komitas - Garun A - Piano Tutorial_1\n",
      "\u001b[1mSaved Json file for:\u001b[0m Komitas - Garun A - Piano Tutorial_10\n",
      "\u001b[1mSaved Json file for:\u001b[0m Komitas - Garun A - Piano Tutorial_11\n",
      "\u001b[1mSaved Json file for:\u001b[0m Komitas - Garun A - Piano Tutorial_12\n",
      "\u001b[1mSaved Json file for:\u001b[0m Komitas - Garun A - Piano Tutorial_13\n",
      "\u001b[1mSaved Json file for:\u001b[0m Komitas - Garun A - Piano Tutorial_14\n",
      "\u001b[1mSaved Json file for:\u001b[0m Komitas - Garun A - Piano Tutorial_2\n",
      "\u001b[1mSaved Json file for:\u001b[0m Komitas - Garun A - Piano Tutorial_3\n",
      "\u001b[1mSaved Json file for:\u001b[0m Komitas - Garun A - Piano Tutorial_4\n",
      "\u001b[1mSaved Json file for:\u001b[0m Komitas - Garun A - Piano Tutorial_5\n",
      "\u001b[1mSaved Json file for:\u001b[0m Komitas - Garun A - Piano Tutorial_6\n",
      "\u001b[1mSaved Json file for:\u001b[0m Komitas - Garun A - Piano Tutorial_7\n",
      "\u001b[1mSaved Json file for:\u001b[0m Komitas - Garun A - Piano Tutorial_8\n",
      "\u001b[1mSaved Json file for:\u001b[0m Komitas - Garun A - Piano Tutorial_9\n",
      "\u001b[1mSaved Json file for:\u001b[0m Komitas - Kaqavik - Piano Piano Tutorial_1\n",
      "\u001b[1mSaved Json file for:\u001b[0m Komitas - Kaqavik - Piano Piano Tutorial_2\n",
      "\u001b[1mSaved Json file for:\u001b[0m Komitas - Shushiki - Piano Tutorial_1\n",
      "\u001b[1mSaved Json file for:\u001b[0m Komitas - Shushiki - Piano Tutorial_2\n",
      "\u001b[1mSaved Json file for:\u001b[0m Komitas - Shushiki - Piano Tutorial_3\n",
      "\u001b[1mSaved Json file for:\u001b[0m Komitas - Shushiki - Piano Tutorial_4\n",
      "\u001b[1mSaved Json file for:\u001b[0m Komitas - Shushiki - Piano Tutorial_5\n",
      "\u001b[1mSaved Json file for:\u001b[0m Komitas - Shushiki - Piano Tutorial_6\n",
      "\u001b[1mSaved Json file for:\u001b[0m Komitas - Shushiki - Piano Tutorial_7\n",
      "\u001b[1mSaved Json file for:\u001b[0m Komitas - Shushiki - Piano Tutorial_8\n",
      "\u001b[1mSaved Json file for:\u001b[0m Komitas - Shushiki - Piano Tutorial_9\n",
      "\u001b[1mSaved Json file for:\u001b[0m Kyanq u Kriv - Piano Tutorial_1\n",
      "\u001b[1mSaved Json file for:\u001b[0m Kyanq u Kriv - Piano Tutorial_10\n",
      "\u001b[1mSaved Json file for:\u001b[0m Kyanq u Kriv - Piano Tutorial_11\n",
      "\u001b[1mSaved Json file for:\u001b[0m Kyanq u Kriv - Piano Tutorial_2\n",
      "\u001b[1mSaved Json file for:\u001b[0m Kyanq u Kriv - Piano Tutorial_3\n",
      "\u001b[1mSaved Json file for:\u001b[0m Kyanq u Kriv - Piano Tutorial_4\n",
      "\u001b[1mSaved Json file for:\u001b[0m Kyanq u Kriv - Piano Tutorial_5\n",
      "\u001b[1mSaved Json file for:\u001b[0m Kyanq u Kriv - Piano Tutorial_6\n",
      "\u001b[1mSaved Json file for:\u001b[0m Kyanq u Kriv - Piano Tutorial_7\n",
      "\u001b[1mSaved Json file for:\u001b[0m Kyanq u Kriv - Piano Tutorial_8\n",
      "\u001b[1mSaved Json file for:\u001b[0m Kyanq u Kriv - Piano Tutorial_9\n",
      "\u001b[1mSaved Json file for:\u001b[0m Makhmur Aghjik - Piano Tutorial_1\n",
      "\u001b[1mSaved Json file for:\u001b[0m Makhmur Aghjik - Piano Tutorial_2\n",
      "\u001b[1mSaved Json file for:\u001b[0m Makhmur Aghjik - Piano Tutorial_3\n",
      "\u001b[1mSaved Json file for:\u001b[0m Makhmur Aghjik - Piano Tutorial_4\n",
      "\u001b[1mSaved Json file for:\u001b[0m Makhmur Aghjik - Piano Tutorial_5\n",
      "\u001b[1mSaved Json file for:\u001b[0m Makhmur Aghjik - Piano Tutorial_6\n",
      "\u001b[1mSaved Json file for:\u001b[0m Patranqi Tevov - Piano Tutorial_1\n",
      "\u001b[1mSaved Json file for:\u001b[0m Patranqi Tevov - Piano Tutorial_10\n",
      "\u001b[1mSaved Json file for:\u001b[0m Patranqi Tevov - Piano Tutorial_11\n",
      "\u001b[1mSaved Json file for:\u001b[0m Patranqi Tevov - Piano Tutorial_12\n",
      "\u001b[1mSaved Json file for:\u001b[0m Patranqi Tevov - Piano Tutorial_13\n",
      "\u001b[1mSaved Json file for:\u001b[0m Patranqi Tevov - Piano Tutorial_14\n",
      "\u001b[1mSaved Json file for:\u001b[0m Patranqi Tevov - Piano Tutorial_15\n",
      "\u001b[1mSaved Json file for:\u001b[0m Patranqi Tevov - Piano Tutorial_16\n",
      "\u001b[1mSaved Json file for:\u001b[0m Patranqi Tevov - Piano Tutorial_2\n",
      "\u001b[1mSaved Json file for:\u001b[0m Patranqi Tevov - Piano Tutorial_3\n",
      "\u001b[1mSaved Json file for:\u001b[0m Patranqi Tevov - Piano Tutorial_4\n",
      "\u001b[1mSaved Json file for:\u001b[0m Patranqi Tevov - Piano Tutorial_5\n",
      "\u001b[1mSaved Json file for:\u001b[0m Patranqi Tevov - Piano Tutorial_6\n",
      "\u001b[1mSaved Json file for:\u001b[0m Patranqi Tevov - Piano Tutorial_7\n",
      "\u001b[1mSaved Json file for:\u001b[0m Patranqi Tevov - Piano Tutorial_8\n",
      "\u001b[1mSaved Json file for:\u001b[0m Patranqi Tevov - Piano Tutorial_9\n",
      "\u001b[1mSaved Json file for:\u001b[0m Qez Het Im Ser - Piano Tutorial_1\n",
      "\u001b[1mSaved Json file for:\u001b[0m Qez Het Im Ser - Piano Tutorial_10\n",
      "\u001b[1mSaved Json file for:\u001b[0m Qez Het Im Ser - Piano Tutorial_11\n",
      "\u001b[1mSaved Json file for:\u001b[0m Qez Het Im Ser - Piano Tutorial_12\n",
      "\u001b[1mSaved Json file for:\u001b[0m Qez Het Im Ser - Piano Tutorial_2\n",
      "\u001b[1mSaved Json file for:\u001b[0m Qez Het Im Ser - Piano Tutorial_3\n",
      "\u001b[1mSaved Json file for:\u001b[0m Qez Het Im Ser - Piano Tutorial_4\n",
      "\u001b[1mSaved Json file for:\u001b[0m Qez Het Im Ser - Piano Tutorial_5\n",
      "\u001b[1mSaved Json file for:\u001b[0m Qez Het Im Ser - Piano Tutorial_6\n",
      "\u001b[1mSaved Json file for:\u001b[0m Qez Het Im Ser - Piano Tutorial_7\n",
      "\u001b[1mSaved Json file for:\u001b[0m Qez Het Im Ser - Piano Tutorial_8\n",
      "\u001b[1mSaved Json file for:\u001b[0m Qez Het Im Ser - Piano Tutorial_9\n",
      "\u001b[1mSaved Json file for:\u001b[0m Tigran Mansuryan - Hin Oreri Ergy - Piano Tutorial_1\n",
      "\u001b[1mSaved Json file for:\u001b[0m Tigran Mansuryan - Hin Oreri Ergy - Piano Tutorial_2\n",
      "\u001b[1mSaved Json file for:\u001b[0m Tigran Mansuryan - Hin Oreri Ergy - Piano Tutorial_3\n",
      "\u001b[1mSaved Json file for:\u001b[0m Tigran Mansuryan - Hin Oreri Ergy - Piano Tutorial_4\n",
      "\u001b[1mSaved Json file for:\u001b[0m Tigran Mansuryan - Hin Oreri Ergy - Piano Tutorial_5\n",
      "\u001b[1mSaved Json file for:\u001b[0m Tigran Mansuryan - Hin Oreri Ergy - Piano Tutorial_6\n",
      "\u001b[1mSaved Json file for:\u001b[0m Tigran Mansuryan - Hin Oreri Ergy - Piano Tutorial_7\n",
      "\u001b[1mSaved Json file for:\u001b[0m Tigran Mansuryan - Hin Oreri Ergy - Piano Tutorial_8\n",
      "\u001b[1mSaved Json file for:\u001b[0m Tigran Mansuryan - Hin Oreri Ergy - Piano Tutorial_9\n",
      "\u001b[1mSaved Json file for:\u001b[0m Tigran Mansuryan - Mer Mankutyan Tangon - Piano Tutorial_1\n",
      "\u001b[1mSaved Json file for:\u001b[0m Tigran Mansuryan - Mer Mankutyan Tangon - Piano Tutorial_2\n",
      "\u001b[1mSaved Json file for:\u001b[0m Tigran Mansuryan - Mer Mankutyan Tangon - Piano Tutorial_3\n",
      "\u001b[1mSaved Json file for:\u001b[0m Tigran Mansuryan - Mer Mankutyan Tangon - Piano Tutorial_4\n",
      "\u001b[1mSaved Json file for:\u001b[0m Tigran Mansuryan - Mer Mankutyan Tangon - Piano Tutorial_5\n",
      "\u001b[1mSaved Json file for:\u001b[0m Tigran Mansuryan - Mer Mankutyan Tangon - Piano Tutorial_6\n",
      "\u001b[1mSaved Json file for:\u001b[0m Tigran Mansuryan - Mer Mankutyan Tangon - Piano Tutorial_7\n",
      "\u001b[1mSaved Json file for:\u001b[0m Tigran Mansuryan - Mer Mankutyan Tangon - Piano Tutorial_8\n",
      "\u001b[1mSaved Json file for:\u001b[0m Tigran Mansuryan - Mer Mankutyan Tangon - Piano Tutorial_9\n",
      "\u001b[1mSaved Json file for:\u001b[0m Tigran Mansuryan - Siro Meghedi - Piano Tutorial_1\n",
      "\u001b[1mSaved Json file for:\u001b[0m Tigran Mansuryan - Siro Meghedi - Piano Tutorial_2\n",
      "\u001b[1mSaved Json file for:\u001b[0m Tigran Mansuryan - Siro Meghedi - Piano Tutorial_3\n",
      "\u001b[1mSaved Json file for:\u001b[0m Tigran Mansuryan - Siro Meghedi - Piano Tutorial_4\n",
      "\u001b[1mSaved Json file for:\u001b[0m Tigran Mansuryan - Siro Meghedi - Piano Tutorial_5\n",
      "\u001b[1mSaved Json file for:\u001b[0m Zartir Lao - Piano Tutorial_1\n",
      "\u001b[1mSaved Json file for:\u001b[0m Zartir Lao - Piano Tutorial_2\n",
      "\u001b[1mSaved Json file for:\u001b[0m Zartir Lao - Piano Tutorial_3\n",
      "\u001b[1mSaved Json file for:\u001b[0m Zartir Lao - Piano Tutorial_4\n",
      "\u001b[1mSaved Json file for:\u001b[0m Zartir Lao - Piano Tutorial_5\n",
      "\u001b[1mSaved Json file for:\u001b[0m Zepyuri Nman - Piano Tutorial_1\n",
      "\u001b[1mSaved Json file for:\u001b[0m Zepyuri Nman - Piano Tutorial_10\n",
      "\u001b[1mSaved Json file for:\u001b[0m Zepyuri Nman - Piano Tutorial_2\n",
      "\u001b[1mSaved Json file for:\u001b[0m Zepyuri Nman - Piano Tutorial_3\n",
      "\u001b[1mSaved Json file for:\u001b[0m Zepyuri Nman - Piano Tutorial_4\n",
      "\u001b[1mSaved Json file for:\u001b[0m Zepyuri Nman - Piano Tutorial_5\n",
      "\u001b[1mSaved Json file for:\u001b[0m Zepyuri Nman - Piano Tutorial_6\n",
      "\u001b[1mSaved Json file for:\u001b[0m Zepyuri Nman - Piano Tutorial_7\n",
      "\u001b[1mSaved Json file for:\u001b[0m Zepyuri Nman - Piano Tutorial_8\n",
      "\u001b[1mSaved Json file for:\u001b[0m Zepyuri Nman - Piano Tutorial_9\n"
     ]
    }
   ],
   "source": [
    "prepare_attributes(split='train')"
   ]
  },
  {
   "cell_type": "code",
   "execution_count": 10,
   "id": "faa974e4-d26d-4192-b654-c9e953042ac2",
   "metadata": {
    "scrolled": true
   },
   "outputs": [],
   "source": [
    "# prepare_attributes(split='validation')"
   ]
  },
  {
   "cell_type": "markdown",
   "id": "987bbc13-4d7c-4698-b5fa-8ffe07e4f80f",
   "metadata": {},
   "source": [
    "# Music Labeler"
   ]
  },
  {
   "cell_type": "code",
   "execution_count": 9,
   "id": "82ff64e0-edd4-49c2-a16d-ed0e001d8791",
   "metadata": {
    "scrolled": true
   },
   "outputs": [],
   "source": [
    "from audiocraft.data.create_data import fill_json_split"
   ]
  },
  {
   "cell_type": "code",
   "execution_count": 10,
   "id": "b878a5f6-97dc-4621-9359-2d8e7192731b",
   "metadata": {
    "scrolled": true
   },
   "outputs": [],
   "source": [
    "fill_json_split(split='train')"
   ]
  },
  {
   "cell_type": "code",
   "execution_count": null,
   "id": "dfdb5eb8-ed23-4c25-960f-627c32f95551",
   "metadata": {
    "scrolled": true
   },
   "outputs": [],
   "source": [
    "# fill_json_split(split='validation')"
   ]
  },
  {
   "cell_type": "markdown",
   "id": "3a37c9d4",
   "metadata": {},
   "source": [
    "# Description Generator"
   ]
  },
  {
   "cell_type": "code",
   "execution_count": null,
   "id": "32436b53-45d5-4628-8ab2-6d0e37dfa414",
   "metadata": {},
   "outputs": [],
   "source": [
    "from audiocraft.data.create_data import fill_descriptions"
   ]
  },
  {
   "cell_type": "code",
   "execution_count": null,
   "id": "0a7b9eeb-338b-4115-8088-bbe093764d27",
   "metadata": {},
   "outputs": [],
   "source": [
    "fill_descriptions(split='train')"
   ]
  },
  {
   "cell_type": "code",
   "execution_count": null,
   "id": "4e12fb68-df83-4fab-ab82-92a998f8fae3",
   "metadata": {},
   "outputs": [],
   "source": [
    "fill_descriptions(split='validation')"
   ]
  },
  {
   "cell_type": "markdown",
   "id": "e941429e",
   "metadata": {},
   "source": [
    "# Data Preprocessor"
   ]
  },
  {
   "cell_type": "code",
   "execution_count": null,
   "id": "db377a9a",
   "metadata": {},
   "outputs": [],
   "source": [
    "from audiocraft.data.process_data import PreprocessData "
   ]
  },
  {
   "cell_type": "code",
   "execution_count": null,
   "id": "84cf7ad0",
   "metadata": {},
   "outputs": [],
   "source": [
    "from audiocraft.models.loaders import load_lm_model_ckpt\n",
    "from omegaconf import OmegaConf"
   ]
  },
  {
   "cell_type": "code",
   "execution_count": null,
   "id": "002ba106",
   "metadata": {},
   "outputs": [],
   "source": [
    "checkpoint = 'facebook/musicgen-small'\n",
    "lm_model_ckpt = load_lm_model_ckpt(checkpoint)\n",
    "cfg = OmegaConf.create(lm_model_ckpt['xp.cfg'])"
   ]
  },
  {
   "cell_type": "code",
   "execution_count": null,
   "id": "d99b5d99",
   "metadata": {},
   "outputs": [],
   "source": [
    "cfg.datasource.train = 'egs/train'\n",
    "cfg.datasource.valid = 'egs/validation'\n",
    "cfg.datasource.evaluate = 'egs/train'\n",
    "cfg.datasource.generate = 'egs/train'"
   ]
  },
  {
   "cell_type": "code",
   "execution_count": null,
   "id": "f4547192",
   "metadata": {},
   "outputs": [],
   "source": [
    "preprocessor = PreprocessData(cfg, checkpoint)"
   ]
  },
  {
   "cell_type": "code",
   "execution_count": null,
   "id": "795dc995",
   "metadata": {},
   "outputs": [],
   "source": [
    "preprocessor.run(time_shift=15.0, data_split='train', save_path='./dataset/')"
   ]
  },
  {
   "cell_type": "code",
   "execution_count": null,
   "id": "94d3db28-a285-4447-a437-1bb8b9de3565",
   "metadata": {},
   "outputs": [],
   "source": [
    "# data_split should be 'valid' not 'validation'\n",
    "preprocessor.run(time_shift=15.0, data_split='valid', save_path='./dataset/')"
   ]
  }
 ],
 "metadata": {
  "kernelspec": {
   "display_name": "MusicGen",
   "language": "python",
   "name": "musicgen"
  },
  "language_info": {
   "codemirror_mode": {
    "name": "ipython",
    "version": 3
   },
   "file_extension": ".py",
   "mimetype": "text/x-python",
   "name": "python",
   "nbconvert_exporter": "python",
   "pygments_lexer": "ipython3",
   "version": "3.9.0"
  }
 },
 "nbformat": 4,
 "nbformat_minor": 5
}
