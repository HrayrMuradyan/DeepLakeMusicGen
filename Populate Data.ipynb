{
 "cells": [
  {
   "cell_type": "markdown",
   "id": "54054f48-ff2f-42ed-a7a9-ffcaee33299c",
   "metadata": {},
   "source": [
    "# Loading the dataset"
   ]
  },
  {
   "cell_type": "code",
   "execution_count": 1,
   "id": "f8f99859-e0a2-4494-a7b2-6dc2db246663",
   "metadata": {},
   "outputs": [],
   "source": [
    "from deeplake.core.vectorstore.deeplake_vectorstore import VectorStore\n",
    "import os"
   ]
  },
  {
   "cell_type": "code",
   "execution_count": 2,
   "id": "5db3993e-21b1-496e-8d05-942991892c46",
   "metadata": {},
   "outputs": [],
   "source": [
    "os.environ['ACTIVELOOP_TOKEN'] = \"eyJhbGciOiJub25lIiwidHlwIjoiSldUIn0.eyJpZCI6ImhyYXlyIiwiYXBpX2tleSI6IkFzUXFwaDNmWFBqLTRpbkZiM0IyWmRWU1VmRmNWQWtwQThwZkg4cVFRX29fWiJ9.\""
   ]
  },
  {
   "cell_type": "code",
   "execution_count": 3,
   "id": "8cbbcf03-4a3a-4bdb-bbb5-c540d992ebdb",
   "metadata": {},
   "outputs": [],
   "source": [
    "import deeplake"
   ]
  },
  {
   "cell_type": "code",
   "execution_count": 4,
   "id": "97b97266-8e91-4b01-a159-cefc76634027",
   "metadata": {},
   "outputs": [],
   "source": [
    "deeplake_path = 'hub://hrayr/audio_dataset3'"
   ]
  },
  {
   "cell_type": "code",
   "execution_count": 5,
   "id": "aa7d9333-ab46-4c51-9479-cda06aa07ae9",
   "metadata": {},
   "outputs": [
    {
     "name": "stderr",
     "output_type": "stream",
     "text": [
      "/"
     ]
    },
    {
     "name": "stdout",
     "output_type": "stream",
     "text": [
      "This dataset can be visualized in Jupyter Notebook by ds.visualize() or at https://app.activeloop.ai/hrayr/audio_dataset3\n",
      "\n"
     ]
    },
    {
     "name": "stderr",
     "output_type": "stream",
     "text": [
      "/"
     ]
    },
    {
     "name": "stdout",
     "output_type": "stream",
     "text": [
      "hub://hrayr/audio_dataset3 loaded successfully.\n",
      "\n"
     ]
    },
    {
     "name": "stderr",
     "output_type": "stream",
     "text": [
      " "
     ]
    }
   ],
   "source": [
    "try:\n",
    "    ds = deeplake.empty(deeplake_path)\n",
    "except:\n",
    "    ds = deeplake.load(deeplake_path)"
   ]
  },
  {
   "cell_type": "code",
   "execution_count": 6,
   "id": "a18adc9a-9705-4c63-add1-725719f82d53",
   "metadata": {},
   "outputs": [
    {
     "name": "stderr",
     "output_type": "stream",
     "text": []
    }
   ],
   "source": [
    "try:\n",
    "    with ds:\n",
    "        ds.create_tensor('audio', htype = 'audio', sample_compression = None, exist_ok=True)\n",
    "        ds.create_tensor('metadata', htype = 'json', exist_ok=True)\n",
    "except ValueError:\n",
    "    pass"
   ]
  },
  {
   "cell_type": "code",
   "execution_count": 7,
   "id": "5ee7bd60-7098-4f87-92b9-6e0f02bfe0ab",
   "metadata": {},
   "outputs": [
    {
     "name": "stdout",
     "output_type": "stream",
     "text": [
      "Dataset(path='hub://hrayr/audio_dataset3', tensors=['audio', 'metadata'])\n",
      "\n",
      "  tensor    htype      shape       dtype  compression\n",
      " -------   -------    -------     -------  ------- \n",
      "  audio     audio   (3, 1323000)  float64   None   \n",
      " metadata   json       (3, 1)       str     None   \n"
     ]
    }
   ],
   "source": [
    "ds.summary()"
   ]
  },
  {
   "cell_type": "markdown",
   "id": "94e5a532-dcc5-453c-b7f2-e5a871855290",
   "metadata": {},
   "source": [
    "# Populating the dataset"
   ]
  },
  {
   "cell_type": "code",
   "execution_count": 8,
   "id": "c42c4231-d6f0-4860-863c-92ee41082f89",
   "metadata": {},
   "outputs": [],
   "source": [
    "from glob import glob\n",
    "import random\n",
    "import librosa\n",
    "from pathlib import Path\n",
    "import json"
   ]
  },
  {
   "cell_type": "code",
   "execution_count": 11,
   "id": "5db8830f-cdb3-4993-9223-b621ea96ad6e",
   "metadata": {},
   "outputs": [],
   "source": [
    "all_music_files = glob('../Dataset/raw_music/train/*.wav')"
   ]
  },
  {
   "cell_type": "code",
   "execution_count": 12,
   "id": "3443eec4-42b5-4883-8215-a7ed200a1bb4",
   "metadata": {},
   "outputs": [],
   "source": [
    "indices_to_take = random.sample(range(len(all_music_files)), 20)"
   ]
  },
  {
   "cell_type": "code",
   "execution_count": 13,
   "id": "7deef733-6caa-4979-8424-fe389768b7ec",
   "metadata": {},
   "outputs": [],
   "source": [
    "metadata = []\n",
    "metadata_file = Path('./egs/train/data.jsonl')\n",
    "\n",
    "with open(str(metadata_file), \"r\") as filled_json_file:\n",
    "    for index, line in enumerate(filled_json_file):\n",
    "        if index in indices_to_take:\n",
    "            link_info_dict = json.loads(line)\n",
    "            metadata.append(link_info_dict)"
   ]
  },
  {
   "cell_type": "code",
   "execution_count": null,
   "id": "e1b0b2aa-6fec-41aa-b306-3e6c9b95c358",
   "metadata": {},
   "outputs": [
    {
     "name": "stdout",
     "output_type": "stream",
     "text": [
      "0\n"
     ]
    },
    {
     "name": "stderr",
     "output_type": "stream",
     "text": [
      "-"
     ]
    }
   ],
   "source": [
    "for i, data in enumerate(metadata):\n",
    "    print(i)\n",
    "    music_path = Path(data['path'])\n",
    "    json_path = music_path.with_suffix('.json')\n",
    "    audio, sr = librosa.load(music_path, sr=None, mono=True)\n",
    "\n",
    "    with open(json_path, 'r') as json_file:\n",
    "        json_info = json.load(json_file)\n",
    "\n",
    "    full_meta = {'metadata': data, 'info': json_info}\n",
    "\n",
    "    ds.append({'audio': audio, 'metadata': full_meta})\n",
    "    "
   ]
  },
  {
   "cell_type": "code",
   "execution_count": 17,
   "id": "1ed14d7d-1dd4-4421-abd1-e3b83c4b4e46",
   "metadata": {},
   "outputs": [
    {
     "name": "stdout",
     "output_type": "stream",
     "text": [
      "Dataset(path='hub://hrayr/audio_dataset3', tensors=['audio', 'metadata'])\n",
      "\n",
      "  tensor    htype          shape           dtype  compression\n",
      " -------   -------        -------         -------  ------- \n",
      "  audio     audio   (24, 749700:1323000)  float64   None   \n",
      " metadata   json          (24, 1)           str     None   \n"
     ]
    }
   ],
   "source": [
    "ds.summary()"
   ]
  }
 ],
 "metadata": {
  "kernelspec": {
   "display_name": "MusicGen",
   "language": "python",
   "name": "musicgen"
  },
  "language_info": {
   "codemirror_mode": {
    "name": "ipython",
    "version": 3
   },
   "file_extension": ".py",
   "mimetype": "text/x-python",
   "name": "python",
   "nbconvert_exporter": "python",
   "pygments_lexer": "ipython3",
   "version": "3.9.0"
  }
 },
 "nbformat": 4,
 "nbformat_minor": 5
}
