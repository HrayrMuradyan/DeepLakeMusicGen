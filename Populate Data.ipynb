{
 "cells": [
  {
   "cell_type": "markdown",
   "id": "54054f48-ff2f-42ed-a7a9-ffcaee33299c",
   "metadata": {},
   "source": [
    "# Loading the dataset"
   ]
  },
  {
   "cell_type": "code",
   "execution_count": 1,
   "id": "f8f99859-e0a2-4494-a7b2-6dc2db246663",
   "metadata": {},
   "outputs": [
    {
     "name": "stderr",
     "output_type": "stream",
     "text": [
      "C:\\Users\\hrayr\\anaconda3\\envs\\DeepLakeTest\\lib\\site-packages\\deeplake\\util\\check_latest_version.py:32: UserWarning: A newer version of deeplake (3.9.18) is available. It's recommended that you update to the latest version using `pip install -U deeplake`.\n",
      "  warnings.warn(\n"
     ]
    }
   ],
   "source": [
    "from deeplake.core.vectorstore.deeplake_vectorstore import VectorStore\n",
    "import getpass\n",
    "import os"
   ]
  },
  {
   "cell_type": "code",
   "execution_count": 2,
   "id": "5db3993e-21b1-496e-8d05-942991892c46",
   "metadata": {},
   "outputs": [
    {
     "name": "stdin",
     "output_type": "stream",
     "text": [
      "Enter the API Key:  ········\n"
     ]
    }
   ],
   "source": [
    "os.environ['ACTIVELOOP_TOKEN'] = getpass.getpass(\"Enter the API Key: \")"
   ]
  },
  {
   "cell_type": "code",
   "execution_count": 3,
   "id": "8cbbcf03-4a3a-4bdb-bbb5-c540d992ebdb",
   "metadata": {},
   "outputs": [],
   "source": [
    "import deeplake"
   ]
  },
  {
   "cell_type": "code",
   "execution_count": 8,
   "id": "97b97266-8e91-4b01-a159-cefc76634027",
   "metadata": {},
   "outputs": [],
   "source": [
    "deeplake_train_path = 'hub://hrayrm/train_data'\n",
    "deeplake_val_path = 'hub://hrayrm/val_data'"
   ]
  },
  {
   "cell_type": "code",
   "execution_count": 9,
   "id": "c93ac7a1-f11f-447a-a736-a09650a2f816",
   "metadata": {},
   "outputs": [],
   "source": [
    "from deeplake.util.exceptions import DatasetHandlerError"
   ]
  },
  {
   "cell_type": "code",
   "execution_count": 10,
   "id": "9e5a0eb7-b0ee-4edc-bfa0-a5898accc0c4",
   "metadata": {},
   "outputs": [
    {
     "name": "stderr",
     "output_type": "stream",
     "text": [
      "\\"
     ]
    },
    {
     "name": "stdout",
     "output_type": "stream",
     "text": [
      "This dataset can be visualized in Jupyter Notebook by ds.visualize() or at https://app.activeloop.ai/hrayrm/train_data\n",
      "\n"
     ]
    },
    {
     "name": "stderr",
     "output_type": "stream",
     "text": [
      "|"
     ]
    },
    {
     "name": "stdout",
     "output_type": "stream",
     "text": [
      "hub://hrayrm/train_data loaded successfully.\n",
      "\n"
     ]
    },
    {
     "name": "stderr",
     "output_type": "stream",
     "text": [
      " \r"
     ]
    },
    {
     "name": "stdout",
     "output_type": "stream",
     "text": [
      "Dataset(path='hub://hrayrm/train_data', tensors=['audio', 'metadata'])\n",
      "\n",
      "  tensor    htype          shape           dtype  compression\n",
      " -------   -------        -------         -------  ------- \n",
      "  audio     audio   (40, 705600:1323000)  float64   None   \n",
      " metadata   json          (40, 1)           str     None   \n"
     ]
    },
    {
     "name": "stderr",
     "output_type": "stream",
     "text": []
    }
   ],
   "source": [
    "try:\n",
    "    ds_train = deeplake.load(deeplake_train_path)\n",
    "    ds_train.summary()\n",
    "except DatasetHandlerError:\n",
    "    ds_train = deeplake.empty(deeplake_train_path)\n",
    "    with ds_train:\n",
    "        ds_train.create_tensor('audio', htype = 'audio', sample_compression = None)\n",
    "        ds_train.create_tensor('metadata', htype = 'json')"
   ]
  },
  {
   "cell_type": "code",
   "execution_count": 11,
   "id": "1115c936-36ae-455d-ae31-021c74cbd8a5",
   "metadata": {},
   "outputs": [
    {
     "name": "stderr",
     "output_type": "stream",
     "text": [
      " \r"
     ]
    },
    {
     "name": "stdout",
     "output_type": "stream",
     "text": [
      "Your Deep Lake dataset has been successfully created!\n"
     ]
    },
    {
     "name": "stderr",
     "output_type": "stream",
     "text": [
      "\\"
     ]
    },
    {
     "name": "stdout",
     "output_type": "stream",
     "text": [
      "This dataset can be visualized in Jupyter Notebook by ds.visualize() or at https://app.activeloop.ai/hrayrm/val_data\n"
     ]
    },
    {
     "name": "stderr",
     "output_type": "stream",
     "text": [
      " \r"
     ]
    },
    {
     "name": "stdout",
     "output_type": "stream",
     "text": [
      "hub://hrayrm/val_data loaded successfully.\n"
     ]
    },
    {
     "name": "stderr",
     "output_type": "stream",
     "text": [
      " \r"
     ]
    }
   ],
   "source": [
    "try:\n",
    "    ds_val = deeplake.load(deeplake_val_path)\n",
    "    ds_val.summary()\n",
    "except DatasetHandlerError:\n",
    "    ds_val = deeplake.empty(deeplake_val_path)\n",
    "    with ds_val:\n",
    "        ds_val.create_tensor('audio', htype = 'audio', sample_compression = None)\n",
    "        ds_val.create_tensor('metadata', htype = 'json')"
   ]
  },
  {
   "cell_type": "markdown",
   "id": "94e5a532-dcc5-453c-b7f2-e5a871855290",
   "metadata": {},
   "source": [
    "# Populating the dataset"
   ]
  },
  {
   "cell_type": "code",
   "execution_count": 12,
   "id": "c42c4231-d6f0-4860-863c-92ee41082f89",
   "metadata": {},
   "outputs": [],
   "source": [
    "from glob import glob\n",
    "import random\n",
    "import librosa\n",
    "from pathlib import Path\n",
    "import json"
   ]
  },
  {
   "cell_type": "code",
   "execution_count": 13,
   "id": "c34d58fd-56d3-4d0c-afdd-1add17f16558",
   "metadata": {},
   "outputs": [],
   "source": [
    "def get_metadata(split='train'):\n",
    "    metadata = []\n",
    "    metadata_file = Path(f'./egs/{split}/data.jsonl')\n",
    "    \n",
    "    with open(str(metadata_file), \"r\") as filled_json_file:\n",
    "        for index, line in enumerate(filled_json_file):\n",
    "            link_info_dict = json.loads(line)\n",
    "            metadata.append(link_info_dict)\n",
    "\n",
    "    return metadata"
   ]
  },
  {
   "cell_type": "code",
   "execution_count": 14,
   "id": "68b44e47-866c-4dd9-9d5d-f1a8db13e4e8",
   "metadata": {},
   "outputs": [],
   "source": [
    "train_metadata = get_metadata(split='train')\n",
    "validation_metadata = get_metadata(split='validation')"
   ]
  },
  {
   "cell_type": "code",
   "execution_count": 15,
   "id": "b42c0ead-4812-47ad-aeff-c394d374133e",
   "metadata": {},
   "outputs": [],
   "source": [
    "def get_observation(metadata_i):\n",
    "    music_path = Path(metadata_i['path'])\n",
    "    json_path = music_path.with_suffix('.json')\n",
    "    audio, sr = librosa.load(music_path, sr=None, mono=True)\n",
    "\n",
    "    with open(json_path, 'r') as json_file:\n",
    "        json_info = json.load(json_file)\n",
    "\n",
    "    full_meta = {'metadata': metadata_i, 'info': json_info}\n",
    "\n",
    "    return audio, full_meta"
   ]
  },
  {
   "cell_type": "code",
   "execution_count": 17,
   "id": "ec8da233-9aa9-4321-bb50-c009577097f1",
   "metadata": {},
   "outputs": [],
   "source": [
    "import time"
   ]
  },
  {
   "cell_type": "code",
   "execution_count": 13,
   "id": "e321e383-3828-4552-b53b-ea8608a0c024",
   "metadata": {},
   "outputs": [
    {
     "name": "stdout",
     "output_type": "stream",
     "text": [
      "0\n",
      "2\n",
      "4\n",
      "6\n",
      "8\n",
      "10\n",
      "12\n",
      "14\n",
      "16\n",
      "18\n",
      "20\n",
      "22\n",
      "24\n",
      "26\n",
      "28\n",
      "30\n",
      "32\n",
      "34\n",
      "36\n",
      "38\n"
     ]
    },
    {
     "name": "stderr",
     "output_type": "stream",
     "text": [
      "-"
     ]
    },
    {
     "name": "stdout",
     "output_type": "stream",
     "text": [
      "Time needed to upload the dataset: 1317 seconds\n"
     ]
    },
    {
     "name": "stderr",
     "output_type": "stream",
     "text": [
      " \r"
     ]
    }
   ],
   "source": [
    "start = time.time()\n",
    "with ds_train:\n",
    "    for i, metadata_i in enumerate(train_metadata[:40]):\n",
    "        if i%2==0:\n",
    "            print(i)\n",
    "        audio, full_meta = get_observation(metadata_i)\n",
    "        ds_train.append({'audio': audio, 'metadata': full_meta})\n",
    "end = time.time()\n",
    "\n",
    "print(f\"Time needed to upload the dataset: {int(end-start)} seconds\")"
   ]
  },
  {
   "cell_type": "code",
   "execution_count": null,
   "id": "2911188d-f64d-4b90-8659-429e989eea8a",
   "metadata": {},
   "outputs": [
    {
     "name": "stdout",
     "output_type": "stream",
     "text": [
      "0\n",
      "2\n",
      "4\n",
      "6\n",
      "8\n",
      "10\n",
      "12\n",
      "14\n",
      "16\n",
      "18\n",
      "20\n",
      "22\n",
      "24\n",
      "26\n",
      "28\n",
      "30\n",
      "32\n",
      "34\n",
      "36\n",
      "38\n"
     ]
    },
    {
     "name": "stderr",
     "output_type": "stream",
     "text": [
      "|"
     ]
    }
   ],
   "source": [
    "start = time.time()\n",
    "with ds_val:\n",
    "    for i, metadata_i in enumerate(validation_metadata[:40]):\n",
    "        if i%2==0:\n",
    "            print(i)\n",
    "        audio, full_meta = get_observation(metadata_i)\n",
    "        ds_val.append({'audio': audio, 'metadata': full_meta})\n",
    "end = time.time()\n",
    "\n",
    "print(f\"Time needed to upload the dataset: {int(end-start)} seconds\")"
   ]
  },
  {
   "cell_type": "code",
   "execution_count": null,
   "id": "7b7beaf0-7d8c-403a-9ff4-f98e1362f4a5",
   "metadata": {},
   "outputs": [],
   "source": []
  }
 ],
 "metadata": {
  "kernelspec": {
   "display_name": "DeepLakeTest",
   "language": "python",
   "name": "deeplaketest"
  },
  "language_info": {
   "codemirror_mode": {
    "name": "ipython",
    "version": 3
   },
   "file_extension": ".py",
   "mimetype": "text/x-python",
   "name": "python",
   "nbconvert_exporter": "python",
   "pygments_lexer": "ipython3",
   "version": "3.9.19"
  }
 },
 "nbformat": 4,
 "nbformat_minor": 5
}
