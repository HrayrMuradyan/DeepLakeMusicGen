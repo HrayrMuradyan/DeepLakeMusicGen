{
 "cells": [
  {
   "cell_type": "code",
   "execution_count": 1,
   "id": "78eb11d5-f9c2-41b1-bae8-e3ac1a5fbf94",
   "metadata": {},
   "outputs": [
    {
     "name": "stderr",
     "output_type": "stream",
     "text": [
      "A matching Triton is not available, some optimizations will not be enabled.\n",
      "Error caught was: No module named 'triton'\n",
      "C:\\Users\\hrayr\\anaconda3\\envs\\MusicGen\\lib\\site-packages\\deeplake\\util\\check_latest_version.py:32: UserWarning: A newer version of deeplake (3.9.11) is available. It's recommended that you update to the latest version using `pip install -U deeplake`.\n",
      "  warnings.warn(\n"
     ]
    }
   ],
   "source": [
    "import audiocraft"
   ]
  },
  {
   "cell_type": "code",
   "execution_count": 2,
   "id": "a283cb0e-d199-4daa-a38d-c08feb225b6b",
   "metadata": {},
   "outputs": [],
   "source": [
    "from audiocraft.models import MusicGen"
   ]
  },
  {
   "cell_type": "code",
   "execution_count": 5,
   "id": "a6360dd7-eff7-425a-9396-2e10c7bda83f",
   "metadata": {},
   "outputs": [
    {
     "name": "stderr",
     "output_type": "stream",
     "text": [
      "C:\\Users\\hrayr\\anaconda3\\envs\\MusicGen\\lib\\site-packages\\torch\\nn\\utils\\weight_norm.py:30: UserWarning: torch.nn.utils.weight_norm is deprecated in favor of torch.nn.utils.parametrizations.weight_norm.\n",
      "  warnings.warn(\"torch.nn.utils.weight_norm is deprecated in favor of torch.nn.utils.parametrizations.weight_norm.\")\n"
     ]
    }
   ],
   "source": [
    "musicgen = MusicGen.get_pretrained('facebook/musicgen-small')"
   ]
  },
  {
   "cell_type": "code",
   "execution_count": null,
   "id": "5b83d175-9367-4571-8754-a6043d9c5d97",
   "metadata": {},
   "outputs": [],
   "source": []
  }
 ],
 "metadata": {
  "kernelspec": {
   "display_name": "MusicGen",
   "language": "python",
   "name": "musicgen"
  },
  "language_info": {
   "codemirror_mode": {
    "name": "ipython",
    "version": 3
   },
   "file_extension": ".py",
   "mimetype": "text/x-python",
   "name": "python",
   "nbconvert_exporter": "python",
   "pygments_lexer": "ipython3",
   "version": "3.9.0"
  }
 },
 "nbformat": 4,
 "nbformat_minor": 5
}
