{
 "cells": [
  {
   "cell_type": "code",
   "execution_count": 1,
   "id": "1feb8053-ef61-4d1f-af04-c71b31e155b3",
   "metadata": {},
   "outputs": [
    {
     "name": "stderr",
     "output_type": "stream",
     "text": [
      "A matching Triton is not available, some optimizations will not be enabled.\n",
      "Error caught was: No module named 'triton'\n",
      "C:\\Users\\hrayr\\anaconda3\\envs\\MusicGen\\lib\\site-packages\\deeplake\\util\\check_latest_version.py:32: UserWarning: A newer version of deeplake (3.9.11) is available. It's recommended that you update to the latest version using `pip install -U deeplake`.\n",
      "  warnings.warn(\n"
     ]
    }
   ],
   "source": [
    "import audiocraft"
   ]
  },
  {
   "cell_type": "code",
   "execution_count": 2,
   "id": "e854f342-cc67-422d-b150-4ceb91c7f952",
   "metadata": {},
   "outputs": [],
   "source": [
    "import sys\n",
    "\n",
    "import torch\n",
    "from omegaconf import OmegaConf\n",
    "\n",
    "from audiocraft.models.loaders import load_lm_model_ckpt, _delete_param, load_compression_model\n",
    "from audiocraft.models.musicgen import MusicGen\n",
    "from IPython.display import Audio, display\n",
    "\n",
    "\n",
    "import random\n",
    "import numpy as np"
   ]
  },
  {
   "cell_type": "code",
   "execution_count": 3,
   "id": "067cd674-f550-48d3-ba20-4db8b550478c",
   "metadata": {},
   "outputs": [],
   "source": [
    "checkpoint_def = 'facebook/musicgen-small'\n",
    "\n",
    "if torch.cuda.device_count():\n",
    "    device = 'cuda'\n",
    "else:\n",
    "    device = 'cpu'\n",
    "    \n",
    "cache_dir=None\n",
    "\n",
    "# Make our modification to false\n",
    "memory_saver=False\n",
    "\n",
    "lm_model_ckpt_def = load_lm_model_ckpt(checkpoint_def, cache_dir=cache_dir)\n",
    "cfg_def = OmegaConf.create(lm_model_ckpt_def['xp.cfg'])"
   ]
  },
  {
   "cell_type": "code",
   "execution_count": 5,
   "id": "e48e0c52-e0b3-4b9b-a37c-e78787d0706c",
   "metadata": {},
   "outputs": [
    {
     "data": {
      "text/plain": [
       "{'batch_size': 192, 'num_workers': 10, 'segment_duration': 30, 'num_samples': None, 'return_info': True, 'shuffle': False, 'sample_on_duration': False, 'sample_on_weight': False, 'min_segment_ratio': 0.8, 'train': {'num_samples': 1000000, 'shuffle': True}, 'valid': {'num_samples': 10000}, 'evaluate': {'num_samples': 10000}, 'generate': {'num_samples': 50, 'return_info': True, 'batch_size': '${dataset.batch_size}'}}"
      ]
     },
     "execution_count": 5,
     "metadata": {},
     "output_type": "execute_result"
    }
   ],
   "source": [
    "cfg_def.dataset"
   ]
  },
  {
   "cell_type": "code",
   "execution_count": 6,
   "id": "0bc8c573-d10a-4b14-856d-cbdfcc4051ab",
   "metadata": {},
   "outputs": [
    {
     "data": {
      "text/plain": [
       "{'max_sample_rate': 32000, 'max_channels': 1, 'train': 'egs/compil/nv_merge_mmi11k_v2=0.3_sttk_v2=0.3_pond5=0.3/train', 'valid': 'egs/compil/nv_merge_mmi11k_v2=0.3_sttk_v2=0.3_pond5=0.3/valid', 'evaluate': 'egs/compil/nv_merge_mmi11k_v2=0.3_sttk_v2=0.3_pond5=0.3/test', 'generate': 'egs/compil/nv_merge_mmi11k_v2=0.3_sttk_v2=0.3_pond5=0.3/test'}"
      ]
     },
     "execution_count": 6,
     "metadata": {},
     "output_type": "execute_result"
    }
   ],
   "source": [
    "cfg_def.datasource"
   ]
  },
  {
   "cell_type": "code",
   "execution_count": 7,
   "id": "9720530a-1170-4d8f-91cc-59f0a85d44aa",
   "metadata": {},
   "outputs": [
    {
     "name": "stdout",
     "output_type": "stream",
     "text": [
      "hub://hrayr/audio_dataset3\n"
     ]
    }
   ],
   "source": [
    "def convert_path_to_url(path):\n",
    "    # Split the path by the special hub: prefix\n",
    "    parts = path.split('hub:\\\\')\n",
    "    \n",
    "    # Check if the split resulted in exactly 2 parts\n",
    "    if len(parts) != 2:\n",
    "        raise ValueError(\"Invalid path format\")\n",
    "\n",
    "    # Construct the new URL format\n",
    "    new_url = \"hub://\" + parts[1].replace(\"\\\\\", \"/\")\n",
    "    \n",
    "    return new_url\n",
    "\n",
    "# Example usage\n",
    "path = r\"C:\\Users\\hrayr\\OneDrive\\Desktop\\Activeloop\\hub:\\hrayr\\audio_dataset3\"\n",
    "url = convert_path_to_url(path)\n",
    "print(url)"
   ]
  },
  {
   "cell_type": "code",
   "execution_count": null,
   "id": "e6fdb162-befb-4be5-b836-97ad963bc862",
   "metadata": {},
   "outputs": [],
   "source": []
  }
 ],
 "metadata": {
  "kernelspec": {
   "display_name": "MusicGen",
   "language": "python",
   "name": "musicgen"
  },
  "language_info": {
   "codemirror_mode": {
    "name": "ipython",
    "version": 3
   },
   "file_extension": ".py",
   "mimetype": "text/x-python",
   "name": "python",
   "nbconvert_exporter": "python",
   "pygments_lexer": "ipython3",
   "version": "3.9.0"
  }
 },
 "nbformat": 4,
 "nbformat_minor": 5
}
